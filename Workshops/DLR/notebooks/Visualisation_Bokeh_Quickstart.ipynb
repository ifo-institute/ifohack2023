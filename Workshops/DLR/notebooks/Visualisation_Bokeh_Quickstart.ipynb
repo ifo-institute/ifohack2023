{
 "cells": [
  {
   "attachments": {},
   "cell_type": "markdown",
   "id": "ebe68c59",
   "metadata": {},
   "source": [
    "# Visualising Spatial Data with Bokeh - Quickstart\n",
    "\n",
    "In this tutorial we will explore alternatives for visualising geospatial data, using Bokeh. With Bokeh you can create interactive dashboards for displaying different types of data, spatial or not."
   ]
  },
  {
   "cell_type": "code",
   "execution_count": 41,
   "id": "dcd78303",
   "metadata": {},
   "outputs": [],
   "source": [
    "import numpy as np\n",
    "import geopandas as gpd   \n",
    "\n",
    "from pyproj import CRS  \n",
    "import xyzservices.providers as xyz  \n",
    " \n",
    "from bokeh.models import ColumnDataSource\n",
    "from bokeh.plotting import figure, save, output_notebook, show\n",
    "from bokeh.models.mappers import LinearColorMapper\n",
    "from bokeh.palettes import Viridis256  "
   ]
  },
  {
   "attachments": {},
   "cell_type": "markdown",
   "id": "d7268d49",
   "metadata": {},
   "source": [
    "For plotting geospatial data, Bokeh requires a specific format, which involves transforming the geometries of the original GeoDataFrame into two columns recording the x and y coordinates of each point in the geometry of the GeoDataFrame."
   ]
  },
  {
   "cell_type": "code",
   "execution_count": 42,
   "id": "451a5ccc",
   "metadata": {},
   "outputs": [],
   "source": [
    "def getPolyCoords(row, geom, coord_type):\n",
    "    \n",
    "    if row[geom].geom_type == \"MultiPolygon\":\n",
    "        g_obj = row[geom].geoms[0]\n",
    "    else:\n",
    "        g_obj = row[geom] \n",
    "    \n",
    "    if coord_type == 'x':\n",
    "        return list(g_obj.exterior.coords.xy[0])\n",
    "    elif coord_type == 'y':\n",
    "        return list(g_obj.exterior.coords.xy[1])\n",
    "\n",
    "def transform_gdf(gdf):\n",
    "    \n",
    "    gdf['x'] = gdf.apply(getPolyCoords, geom = 'geometry', coord_type = 'x', axis = 1)\n",
    "    gdf['y'] = gdf.apply(getPolyCoords, geom = 'geometry', coord_type = 'y', axis = 1)\n",
    "    p_df = gdf.drop('geometry', axis = 1).copy()\n",
    "    \n",
    "    return p_df"
   ]
  },
  {
   "attachments": {},
   "cell_type": "markdown",
   "id": "ae74d4d7",
   "metadata": {},
   "source": [
    "For displaying Bokeh apps in Jupyer notebooks, you must first call the command below."
   ]
  },
  {
   "cell_type": "code",
   "execution_count": null,
   "id": "1fb56355",
   "metadata": {},
   "outputs": [],
   "source": [
    "output_notebook()"
   ]
  },
  {
   "attachments": {},
   "cell_type": "markdown",
   "id": "fcd621c5",
   "metadata": {},
   "source": [
    "Our first example of displaying geospatial data is showing the selected neighbohoords of Bremen, using as basemap OpenStreetMap tiles. This basemap uses Mercator coordinates, and we will first transform the input spatial data to the new coordinate system."
   ]
  },
  {
   "cell_type": "code",
   "execution_count": 45,
   "id": "5e0dbc7a",
   "metadata": {},
   "outputs": [],
   "source": [
    "neighborhoods_bremen = gpd.read_file(\"../data_example/Example_Bremen_Neighborhoods.gpkg\")\n",
    "\n",
    "proj_crs = CRS.from_user_input(3035) \n",
    "mercator_crs = CRS.from_user_input(3395)\n",
    "\n",
    "neighborhoods_bremen_copy = neighborhoods_bremen.to_crs(mercator_crs)     "
   ]
  },
  {
   "attachments": {},
   "cell_type": "markdown",
   "id": "278fb778",
   "metadata": {},
   "source": [
    "We extract the boundary of the input spatial data, in order to create a map that fits its size."
   ]
  },
  {
   "cell_type": "code",
   "execution_count": 46,
   "id": "94dad620",
   "metadata": {},
   "outputs": [],
   "source": [
    "bbox = neighborhoods_bremen_copy.total_bounds\n",
    "x_range = (bbox[0], bbox[2]) ; y_range = (bbox[1], bbox[3]) "
   ]
  },
  {
   "attachments": {},
   "cell_type": "markdown",
   "id": "448adfbf",
   "metadata": {},
   "source": [
    "After processing of the original GeoDataFrame is finished, we can transform the geometry column to fit Bokeh input format."
   ]
  },
  {
   "cell_type": "code",
   "execution_count": null,
   "id": "b3d539df",
   "metadata": {},
   "outputs": [],
   "source": [
    "neighborhoods_bremen_b = transform_gdf(neighborhoods_bremen_copy) \n",
    "neighborhoods_bremen_b.head(3)"
   ]
  },
  {
   "attachments": {},
   "cell_type": "markdown",
   "id": "fa0a221e",
   "metadata": {},
   "source": [
    "The simple display below uses as input boundaries of the map, the spatial data to be shown, and display parameters, i.e. line color, line width and transparency."
   ]
  },
  {
   "cell_type": "code",
   "execution_count": null,
   "id": "c8374523",
   "metadata": {},
   "outputs": [],
   "source": [
    "p = figure(title = \"Neighborhoods in Bremen\", x_range=x_range, y_range=y_range,\n",
    "           x_axis_type=\"mercator\", y_axis_type=\"mercator\")\n",
    "     \n",
    "p.patches('x', 'y', source = ColumnDataSource(neighborhoods_bremen_b), line_color = \"red\", line_width = 0.8, \n",
    "              fill_alpha = 0)\n",
    " \n",
    "p.add_tile(xyz.OpenStreetMap.Mapnik)\n",
    "show(p)   \n"
   ]
  },
  {
   "attachments": {},
   "cell_type": "markdown",
   "id": "4e9e5c2d",
   "metadata": {},
   "source": [
    "Alternatively, the map can be saved locally."
   ]
  },
  {
   "cell_type": "code",
   "execution_count": null,
   "id": "fb3d9ff4",
   "metadata": {},
   "outputs": [],
   "source": [
    "f = \"Plot_neighborhoods_Bremen.html\"   \n",
    "outfp =  f     \n",
    "save(p, outfp)"
   ]
  },
  {
   "attachments": {},
   "cell_type": "markdown",
   "id": "e75f0de5",
   "metadata": {},
   "source": [
    "In our second example, we will display spatial data using a color map."
   ]
  },
  {
   "cell_type": "code",
   "execution_count": 49,
   "id": "8b658d9e",
   "metadata": {},
   "outputs": [],
   "source": [
    "zensus_bremen_grid = gpd.read_file(\"../data_example/Example_Bremen_Zensus_Grid_100m.gpkg\")\n",
    "\n",
    "proj_crs = CRS.from_user_input(3035) \n",
    "mercator_crs = CRS.from_user_input(3395)\n",
    "\n",
    "zensus_bremen_grid_copy = zensus_bremen_grid.to_crs(mercator_crs) \n",
    "\n",
    "bbox = zensus_bremen_grid_copy.total_bounds\n",
    "x_range = (bbox[0], bbox[2]) ; y_range = (bbox[1], bbox[3]) "
   ]
  },
  {
   "attachments": {},
   "cell_type": "markdown",
   "id": "9a438506",
   "metadata": {},
   "source": [
    "We create a new collumn in the GeoDataFrame, which will be used for display. The colors are chosen as random integers. Ideally, these values should not be random and instead be read from sociodemographic variables. Integers are then transformed into corresponding colors from a native color palette."
   ]
  },
  {
   "cell_type": "code",
   "execution_count": 50,
   "id": "21cb1ea8",
   "metadata": {},
   "outputs": [],
   "source": [
    "color_nb = 8\n",
    "zensus_bremen_grid_copy[\"fill_col\"] = np.random.randint(0, color_nb, len(zensus_bremen_grid_copy)) \n",
    "color_mapper =  LinearColorMapper(palette=Viridis256, low=0, high = color_nb)  "
   ]
  },
  {
   "attachments": {},
   "cell_type": "markdown",
   "id": "cbecf6b6",
   "metadata": {},
   "source": [
    "Transforming the geometries, displaying the map and saving it, are the same as in the previous example."
   ]
  },
  {
   "cell_type": "code",
   "execution_count": 51,
   "id": "cea97acd",
   "metadata": {
    "scrolled": true
   },
   "outputs": [],
   "source": [
    "zensus_bremen_grid_b = transform_gdf(zensus_bremen_grid_copy)"
   ]
  },
  {
   "cell_type": "code",
   "execution_count": null,
   "id": "59e90931",
   "metadata": {},
   "outputs": [],
   "source": [
    "p = figure(title = \"Zensus Grid in Bremen\", x_range=x_range, y_range=y_range,\n",
    "           x_axis_type=\"mercator\", y_axis_type=\"mercator\")\n",
    " \n",
    "p.patches('x', 'y', source = ColumnDataSource(zensus_bremen_grid_b), line_color = \"white\", line_width = 0.5, \n",
    "              fill_color={'field': 'fill_col', 'transform': color_mapper})\n",
    "\n",
    "p.add_tile(xyz.OpenStreetMap.Mapnik)\n",
    "\n",
    "show(p)"
   ]
  },
  {
   "cell_type": "code",
   "execution_count": null,
   "id": "fd5b0550",
   "metadata": {},
   "outputs": [],
   "source": [
    "f = \"Plot_Zensus_Bremen_colors.html\"   \n",
    "outfp =  f     \n",
    "save(p, outfp)"
   ]
  }
 ],
 "metadata": {
  "kernelspec": {
   "display_name": "Python 3 (ipykernel)",
   "language": "python",
   "name": "python3"
  },
  "language_info": {
   "codemirror_mode": {
    "name": "ipython",
    "version": 3
   },
   "file_extension": ".py",
   "mimetype": "text/x-python",
   "name": "python",
   "nbconvert_exporter": "python",
   "pygments_lexer": "ipython3",
   "version": "3.10.10"
  }
 },
 "nbformat": 4,
 "nbformat_minor": 5
}
