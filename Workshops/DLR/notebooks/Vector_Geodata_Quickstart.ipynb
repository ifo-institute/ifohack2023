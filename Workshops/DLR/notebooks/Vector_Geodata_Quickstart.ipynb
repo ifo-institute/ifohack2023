{
 "cells": [
  {
   "cell_type": "markdown",
   "id": "ebe68c59",
   "metadata": {},
   "source": [
    "# Working with Vector Geodata - Quickstart\n",
    "\n",
    "In this Tutorial we will read in some simple Geodata and play around with it!\n",
    "First we need the library Geopandas which works very similiar to Pandas"
   ]
  },
  {
   "cell_type": "code",
   "execution_count": null,
   "id": "dcd78303",
   "metadata": {},
   "outputs": [],
   "source": [
    "import geopandas as gpd\n",
    "import folium\n",
    "import rioxarray as riox\n",
    "import numpy as np\n",
    "import matplotlib.pyplot as plt\n",
    "import os"
   ]
  },
  {
   "cell_type": "markdown",
   "id": "19a45d93",
   "metadata": {},
   "source": [
    " "
   ]
  },
  {
   "cell_type": "markdown",
   "id": "d7268d49",
   "metadata": {},
   "source": [
    "There a many different data types for vector geodata like kml, shape, json, etc. We are working with geopackages which could be described as a normal dataframe, but with a geometry column. The geometry in a geodataframe can be Points, Lines and Polygons. \n",
    "\n",
    "For this quickstart example we want to look at the administrative boundaries of the city Bremen. For this city we also have all buildings.\n",
    "\n",
    "Import a geodatafile (*.gpkg)"
   ]
  },
  {
   "cell_type": "code",
   "execution_count": null,
   "id": "451a5ccc",
   "metadata": {},
   "outputs": [],
   "source": [
    "#os.chdir(\"...\")\n",
    "neighborhoods_bremen = gpd.read_file(\"../data_example/Example_Bremen_Neighborhoods.gpkg\")\n",
    "buildings_bremen = gpd.read_file(\"../data_example/Example_Bremen_Buildings.gpkg\")"
   ]
  },
  {
   "cell_type": "markdown",
   "id": "94108783",
   "metadata": {},
   "source": [
    "\n",
    "Once we imported the files we can look at them in interctive maps via the geopandas built in function .explore() and the functions from folium.\n"
   ]
  },
  {
   "cell_type": "code",
   "execution_count": null,
   "id": "99b8b420",
   "metadata": {},
   "outputs": [],
   "source": [
    "m = neighborhoods_bremen.explore(height=500, width=1000, name=\"Neighborhoods\")\n",
    "m = buildings_bremen.explore(m=m, color=\"red\", name=\"Buildings\")\n",
    "\n",
    "folium.LayerControl().add_to(m)\n",
    "m"
   ]
  },
  {
   "cell_type": "markdown",
   "id": "9a438506",
   "metadata": {},
   "source": [
    "So let´s say we are just interested in the neighborhood Westend and its buildings -\n",
    "For that we slice the disctricts to just one element and clip (cut) the buildings to its geometry:"
   ]
  },
  {
   "cell_type": "code",
   "execution_count": null,
   "id": "21cb1ea8",
   "metadata": {},
   "outputs": [],
   "source": [
    "westend = neighborhoods_bremen.loc[neighborhoods_bremen.Neighborhood_Name == \"Westend\"]\n",
    "buildings_westend = buildings_bremen.clip(westend.geometry)"
   ]
  },
  {
   "cell_type": "markdown",
   "id": "cbecf6b6",
   "metadata": {},
   "source": [
    "As you can see the newly created dataset just contains values for the neighborhood called Westend."
   ]
  },
  {
   "cell_type": "code",
   "execution_count": null,
   "id": "cea97acd",
   "metadata": {
    "scrolled": true
   },
   "outputs": [],
   "source": [
    "m = westend.explore(height=500, width=1000, name=\"Neighborhoods\")\n",
    "m = buildings_westend.explore(m=m, color=\"red\", name=\"Buildings\")\n",
    "\n",
    "folium.LayerControl().add_to(m)\n",
    "m"
   ]
  },
  {
   "cell_type": "markdown",
   "id": "cf590241",
   "metadata": {},
   "source": [
    "# Vector Calculations - Building Density"
   ]
  },
  {
   "cell_type": "markdown",
   "id": "7e838a22",
   "metadata": {},
   "source": [
    "With this type of data we could for example calculate the built-up density of the neighborhood. For this we need the area of the total neighborhood and the area of all buildings inside it. We wil use functions from geopandas. The function .area gets as the real area of the object in square meters."
   ]
  },
  {
   "cell_type": "code",
   "execution_count": null,
   "id": "cd473c07",
   "metadata": {},
   "outputs": [],
   "source": [
    "westend_area = westend.area.values[0]\n",
    "buildings_area = np.sum(buildings_westend.area)\n",
    "print(westend_area)\n",
    "print(buildings_area)"
   ]
  },
  {
   "cell_type": "code",
   "execution_count": null,
   "id": "bde51918",
   "metadata": {},
   "outputs": [],
   "source": [
    "building_density = buildings_area / westend_area * 100\n",
    "print(building_density)"
   ]
  },
  {
   "cell_type": "markdown",
   "id": "2e9193cb",
   "metadata": {},
   "source": [
    "Now we can see that in Westend about 28% of the whole neighborhood is covered with buildings."
   ]
  },
  {
   "cell_type": "markdown",
   "id": "03b723a0",
   "metadata": {},
   "source": [
    "# Vector Calculation II. Building Densities\n",
    "Now it is an easy task to get the building densities for the whole neighborhood by just looping over it and iteratively calculate the building density neighborhood by neighborhood."
   ]
  },
  {
   "cell_type": "markdown",
   "id": "9e950819",
   "metadata": {},
   "source": [
    "First we have to create an empty list where our building densities get stored. Then we loop over all neighborhood names and can slice our file into a smaller subset. For every subset (one neighborhood) we use the clip function to get just the relevant buildings. The sum of the building areas gets divided by the total area of the neighborhood - resulting the building density."
   ]
  },
  {
   "cell_type": "code",
   "execution_count": null,
   "id": "32df8fc0",
   "metadata": {},
   "outputs": [],
   "source": [
    "building_density = []  # Empty List which gets filled iteratively\n",
    "neighborhood_names = neighborhoods_bremen.Neighborhood_Name.values  # Needed for loop and indexing\n",
    "\n",
    "for neighborhood in neighborhood_names:\n",
    "    subset = neighborhoods_bremen.loc[neighborhoods_bremen.Neighborhood_Name == neighborhood]  # Get one neighborhood\n",
    "    buildings_clip = buildings_bremen.clip(subset.geometry)  # Clip all buildings to one neighborhood\n",
    "    building_density.append(np.sum(buildings_clip.area) / subset.area.values[0] * 100)  #  Building Area / Total Area = Density\n",
    "    \n",
    "neighborhoods_bremen[\"Building_Density\"] = building_density  # Add new list to dataframe"
   ]
  },
  {
   "cell_type": "markdown",
   "id": "b4a34ea1",
   "metadata": {},
   "source": [
    "If we want we can look at the first 5 rows of the new dataframe:"
   ]
  },
  {
   "cell_type": "code",
   "execution_count": null,
   "id": "cef16d98",
   "metadata": {},
   "outputs": [],
   "source": [
    "neighborhoods_bremen.head()"
   ]
  },
  {
   "cell_type": "markdown",
   "id": "8a2e5305",
   "metadata": {},
   "source": [
    "# Visualization of the Results \n",
    "Now we want to visualize our Results again. Now we color our neighborhoods by building density. Blue is low - red is high."
   ]
  },
  {
   "cell_type": "code",
   "execution_count": null,
   "id": "cf929a7a",
   "metadata": {},
   "outputs": [],
   "source": [
    "m = buildings_bremen.explore(color=\"gray\", name=\"Buildings\")\n",
    "m = neighborhoods_bremen.explore(m=m, height=500, width=1000, name=\"Neighborhoods\",\n",
    "                             column = \"Building_Density\", scheme = \"quantiles\", cmap = \"RdYlBu_r\", legend = True)\n",
    "\n",
    "\n",
    "folium.LayerControl().add_to(m)\n",
    "m"
   ]
  }
 ],
 "metadata": {
  "kernelspec": {
   "display_name": "Python 3 (ipykernel)",
   "language": "python",
   "name": "python3"
  },
  "language_info": {
   "codemirror_mode": {
    "name": "ipython",
    "version": 3
   },
   "file_extension": ".py",
   "mimetype": "text/x-python",
   "name": "python",
   "nbconvert_exporter": "python",
   "pygments_lexer": "ipython3",
   "version": "3.11.0"
  }
 },
 "nbformat": 4,
 "nbformat_minor": 5
}
