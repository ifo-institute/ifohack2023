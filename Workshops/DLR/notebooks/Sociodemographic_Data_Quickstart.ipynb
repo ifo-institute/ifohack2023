{
 "cells": [
  {
   "attachments": {},
   "cell_type": "markdown",
   "id": "ebe68c59",
   "metadata": {},
   "source": [
    "# Working with Spatial Sociodemographic Data - Quickstart\n",
    "\n",
    "In this tutorial we will explore some methods for analysing sociodemographic data with a spatial component."
   ]
  },
  {
   "cell_type": "code",
   "execution_count": null,
   "id": "dcd78303",
   "metadata": {},
   "outputs": [],
   "source": [
    "import pandas as pd\n",
    "import geopandas as gpd\n",
    "import folium \n",
    "import matplotlib.pyplot as plt\n",
    "\n",
    "from pysal.lib import weights  \n",
    "import segregation as seg"
   ]
  },
  {
   "attachments": {},
   "cell_type": "markdown",
   "id": "19a45d93",
   "metadata": {},
   "source": [
    "# Segregation "
   ]
  },
  {
   "attachments": {},
   "cell_type": "markdown",
   "id": "d7268d49",
   "metadata": {},
   "source": [
    "Residential segregation measures how spatially separated two poplation groups are located within census tracts (Massey & Denton, 1988). Massey and Denton (1988) defined several dimensions of residential segregation, such as (1) evenness, or the overrepresentation of a group in one area, (2) exposure, in which a group is rarely in the neighbourhood of another group, (3) concentration, where a single group occupies a limited amount of space, (4) centralization, and (5) clustering.\n",
    "\n",
    "The segregation module of the PySal package allows for the exploration of an extended set of segregation indices.\n",
    "\n",
    "For mode information, see: *Massey, D. S., & Denton, N. A. (1988). The dimensions of residential segregation. Social Forces, 67(2), 281–315* and *Cortes, R. X., Rey, S., Knaap, E., & Wolf, L. J. (2020). An open-source framework for non-spatial and spatial segregation measures: The PySAL segregation module. Journal of Computational Social Science, 3(1), 135–166*."
   ]
  },
  {
   "cell_type": "code",
   "execution_count": 2,
   "id": "451a5ccc",
   "metadata": {},
   "outputs": [],
   "source": [
    "zensus_bremen_df = pd.read_csv(\"../data_example/Example_Bremen_Zensus_Population.csv\", sep = \";\", encoding = 'utf-8-sig')"
   ]
  },
  {
   "attachments": {},
   "cell_type": "markdown",
   "id": "fcd621c5",
   "metadata": {},
   "source": [
    "We will analyse one dimension of segregation for population sub-groups defined by age. The first sub-group is that of seniors, or population of age 65 or older, and the second sub-group is that of children, or population of age 18 or younger."
   ]
  },
  {
   "cell_type": "code",
   "execution_count": 3,
   "id": "5e0dbc7a",
   "metadata": {},
   "outputs": [],
   "source": [
    "single_var_1 = \"alk_65_over\"; single_var_2 = \"alk_18_under\"; total_pop_var = \"population_total_units\"\n",
    "    \n",
    "zensus_bremen_df[total_pop_var] = zensus_bremen_df[total_pop_var].astype(int) # do this in utils\n",
    "zensus_bremen_df[single_var_1] = zensus_bremen_df[single_var_1].astype(int) ; zensus_bremen_df[single_var_2] = zensus_bremen_df[single_var_2].astype(int)"
   ]
  },
  {
   "attachments": {},
   "cell_type": "markdown",
   "id": "fa0a221e",
   "metadata": {},
   "source": [
    "The chosen segregation measure is **interaction**, or the extent to which members of a sub-group are exposed to members of the rest of the population, in a unit area. Interaction is a single-group measure, in the sense that it is assessed for one individual sub-groups at a time. This is in contrast with multi-group measures, where segregation is assesed between multiple population sub-groups concomitently. Interaction takes values between 0 and 1.\n",
    "\n",
    "We observe that both seniors and children interact highly wih the rest of the population, but there is a higher interaction between children and population of other age categories. "
   ]
  },
  {
   "cell_type": "code",
   "execution_count": null,
   "id": "c8374523",
   "metadata": {},
   "outputs": [],
   "source": [
    "zensus_bremen_df = zensus_bremen_df[ zensus_bremen_df[total_pop_var] > 0]\n",
    "    \n",
    "# A-spatial segregation index     \n",
    "int1 = seg.singlegroup.Interaction(data = zensus_bremen_df, group_pop_var = single_var_1, total_pop_var = total_pop_var)\n",
    "int2 = seg.singlegroup.Interaction(data = zensus_bremen_df, group_pop_var = single_var_2, total_pop_var = total_pop_var)\n",
    "\n",
    "print(\"Interaction of age category %s: %.2f and Interaction of age category %s: %.2f\" %(single_var_1, int1.statistic, single_var_2, int2.statistic))"
   ]
  },
  {
   "attachments": {},
   "cell_type": "markdown",
   "id": "e75f0de5",
   "metadata": {},
   "source": [
    "We will now measure a form of spatial segregation, where the spatial connections between census unit areas is also considered when assesing the segregation of a population sub-group."
   ]
  },
  {
   "cell_type": "code",
   "execution_count": 5,
   "id": "8b658d9e",
   "metadata": {},
   "outputs": [],
   "source": [
    "zensus_bremen_grid = gpd.read_file(\"../data_example/Example_Bremen_Zensus_Grid_100m.gpkg\")\n",
    "idx_column = \"Grid_Code\"\n",
    "zensus_bremen_grid = zensus_bremen_grid.merge(zensus_bremen_df, on = idx_column, how = \"inner\") "
   ]
  },
  {
   "attachments": {},
   "cell_type": "markdown",
   "id": "9a438506",
   "metadata": {},
   "source": [
    "For the computation of spatial indices to be successful, all unit areas that are isolated (i.e. present no connection with another area) should be removed first. We use as measure of connection between cells the Queen proximity method."
   ]
  },
  {
   "cell_type": "code",
   "execution_count": 6,
   "id": "21cb1ea8",
   "metadata": {},
   "outputs": [],
   "source": [
    "wr = weights.contiguity.Queen.from_dataframe(zensus_bremen_grid, geom_col = \"geometry\", ids = idx_column )    \n",
    "zensus_bremen_grid_copy = zensus_bremen_grid[~zensus_bremen_grid[idx_column].isin(wr.islands)].copy()"
   ]
  },
  {
   "attachments": {},
   "cell_type": "markdown",
   "id": "cbecf6b6",
   "metadata": {},
   "source": [
    "As you can see the newly created dataset does not contained isolated areas."
   ]
  },
  {
   "cell_type": "code",
   "execution_count": null,
   "id": "cea97acd",
   "metadata": {
    "scrolled": true
   },
   "outputs": [],
   "source": [
    "m = zensus_bremen_grid.explore(height=500, width=1000, color=\"gray\", name=\"Zensus Grid Cells 100mx100m\")\n",
    "m = zensus_bremen_grid_copy.explore(m=m, color=\"blue\", name=\"Zensus Grid Cells (filtered)\")\n",
    "\n",
    "folium.LayerControl().add_to(m)\n",
    "m"
   ]
  },
  {
   "attachments": {},
   "cell_type": "markdown",
   "id": "446c9acc",
   "metadata": {},
   "source": [
    "We now measure the extent to which members of one-subgroup are exposed to members of the rest of the population, anywhere in space, using **distance decay interaction**.  \n",
    "\n",
    "Results are very similar to the a-spatial interaction values."
   ]
  },
  {
   "cell_type": "code",
   "execution_count": null,
   "id": "59e90931",
   "metadata": {},
   "outputs": [],
   "source": [
    "dint1 = seg.singlegroup.DistanceDecayInteraction(data = zensus_bremen_grid_copy, group_pop_var = single_var_1, total_pop_var = total_pop_var)\n",
    "dint2 = seg.singlegroup.DistanceDecayInteraction(data = zensus_bremen_grid_copy, group_pop_var = single_var_2, total_pop_var = total_pop_var)\n",
    "    \n",
    "print(\"Interaction (spatial) of age category %s: %.2f and Interaction (spatial) of age category %s: %.2f\" %(single_var_1, dint1.statistic, \n",
    "                                                                                                            single_var_2, dint2.statistic))"
   ]
  },
  {
   "attachments": {},
   "cell_type": "markdown",
   "id": "86d9b36c",
   "metadata": {},
   "source": [
    "Finally, to get a sense of the distribution of the sub-groups in space, we can display the percentages represented by a sub-group in the population of each unit area. This is exemplified for seniors below."
   ]
  },
  {
   "cell_type": "code",
   "execution_count": null,
   "id": "fd5b0550",
   "metadata": {},
   "outputs": [],
   "source": [
    "zensus_bremen_grid_copy[single_var_1 + \"_perc\"] = [x * 100 / y if y != 0 else 0 for (x,y) in zip(zensus_bremen_grid_copy[single_var_1], zensus_bremen_grid_copy[total_pop_var])]\n",
    " \n",
    "m = zensus_bremen_grid_copy.explore(height=500, width=1000, name=\"Seniors > 65yo\",\n",
    "                             column = single_var_1 + \"_perc\", scheme = \"EqualInterval\", cmap = \"inferno\", legend = True)\n",
    "\n",
    "\n",
    "folium.LayerControl().add_to(m)\n",
    "m"
   ]
  }
 ],
 "metadata": {
  "kernelspec": {
   "display_name": "Python 3 (ipykernel)",
   "language": "python",
   "name": "python3"
  },
  "language_info": {
   "codemirror_mode": {
    "name": "ipython",
    "version": 3
   },
   "file_extension": ".py",
   "mimetype": "text/x-python",
   "name": "python",
   "nbconvert_exporter": "python",
   "pygments_lexer": "ipython3",
   "version": "3.10.10"
  }
 },
 "nbformat": 4,
 "nbformat_minor": 5
}
