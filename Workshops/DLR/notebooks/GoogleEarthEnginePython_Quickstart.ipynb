{
 "cells": [
  {
   "cell_type": "markdown",
   "id": "f55549e0",
   "metadata": {},
   "source": [
    "# GoogleEarthEngine Python Image Download\n",
    "In this notebook we will download geodata from GEE."
   ]
  },
  {
   "cell_type": "markdown",
   "id": "0e7e6646",
   "metadata": {},
   "source": [
    "For this we will need the following libraries:"
   ]
  },
  {
   "cell_type": "code",
   "execution_count": null,
   "id": "e5cffc77",
   "metadata": {},
   "outputs": [],
   "source": [
    "import ee\n",
    "import geemap\n",
    "import geopandas as gpd\n",
    "import os\n",
    "\n",
    "#os.chdir(\"...\")"
   ]
  },
  {
   "cell_type": "markdown",
   "id": "24901c9e",
   "metadata": {},
   "source": [
    "Once you have created your GEE-Account you can start the authentication process with the following lines of code. Then a browser window will open automatically where you can copy a token. Please make sure that you check all the terms and conditions boxes, otherwise the api-code might not work. You also have to register your cloud project for non commercial use."
   ]
  },
  {
   "cell_type": "code",
   "execution_count": null,
   "id": "f7c028ad",
   "metadata": {
    "scrolled": true
   },
   "outputs": [],
   "source": [
    "#Google Earth Authenticate Process - API-Code is needed\n",
    "ee.Authenticate()\n",
    "ee.Initialize()"
   ]
  },
  {
   "cell_type": "markdown",
   "id": "7c09c8d8",
   "metadata": {},
   "source": [
    "Now we start with the download of a ESA-WorldCover image. This data is a global landcover classification in a 10x10m resolution. First we need a study area again. We will use the city bremen. The city file is divided in all its different districts or neighborhoods. To get a single merged area we will use the dissolve function."
   ]
  },
  {
   "cell_type": "code",
   "execution_count": null,
   "id": "05de3e22",
   "metadata": {},
   "outputs": [],
   "source": [
    "inpath = \"../data_example/Example_Bremen_Neighborhoods.gpkg\"\n",
    "city = gpd.read_file(inpath)\n",
    "dissolve = city.dissolve()"
   ]
  },
  {
   "cell_type": "markdown",
   "id": "f086bd35",
   "metadata": {},
   "source": [
    "Now we have to convert the geodataframe in a Earth Engine readable format. Then we can pick a Image as a Image Collection."
   ]
  },
  {
   "cell_type": "code",
   "execution_count": null,
   "id": "ede349ef",
   "metadata": {},
   "outputs": [],
   "source": [
    "ee_readable = geemap.geopandas_to_ee(dissolve)\n",
    "esa = ee.ImageCollection(\"ESA/WorldCover/v100\").filterBounds(ee_readable.geometry())"
   ]
  },
  {
   "cell_type": "markdown",
   "id": "227ae8e7",
   "metadata": {},
   "source": [
    "Now we just have to declare an output path or a name for our file and export the image via ee. The important part here is to set the right geometric scale and a fitting coordinate reference system!"
   ]
  },
  {
   "cell_type": "code",
   "execution_count": null,
   "id": "e065b720",
   "metadata": {},
   "outputs": [],
   "source": [
    "outpath = \"Worldcover_Bremen.tif\"\n",
    "geemap.ee_export_image(esa.first(), \n",
    "                        filename= outpath,\n",
    "                        scale = 10, region = ee_readable.geometry(), file_per_band=False,\n",
    "                        crs = 'EPSG:3035')"
   ]
  },
  {
   "cell_type": "markdown",
   "id": "01d082f6",
   "metadata": {},
   "source": [
    "Great. Now let's build a function out of it und use it in other scripts too! There are many other datasets to download to play with or to analyze. Just explore their website with good documented tutorials on https://earthengine.google.com/"
   ]
  },
  {
   "cell_type": "code",
   "execution_count": null,
   "id": "4f57d314",
   "metadata": {},
   "outputs": [],
   "source": [
    "def download_WorldCover(inpath,outpath):\n",
    "    '''\n",
    "    Downloads World Cover Data from Google Earth Engine API. Input file must be a boundary file as GPKG or SHP.\n",
    "\n",
    "    Parameters\n",
    "    ----------\n",
    "    inpath : STRING\n",
    "        File path including filename for area of interest. Must be GPKG or SHP.\n",
    "    outpath : STRING\n",
    "        File path including filename for WorldCover out file. Don't forget .tif extension!\n",
    "\n",
    "    Returns\n",
    "    -------\n",
    "    None.\n",
    "\n",
    "    '''\n",
    "    \n",
    "    city = gpd.read_file(inpath)\n",
    "    dissolve = city.dissolve()\n",
    "    ee_readable = geemap.geopandas_to_ee(dissolve)\n",
    "    esa = ee.ImageCollection(\"ESA/WorldCover/v100\").filterBounds(ee_readable.geometry())\n",
    "    geemap.ee_export_image(esa.first(), \n",
    "                            filename= outpath,\n",
    "                            scale = 10, region = ee_readable.geometry(), file_per_band=False,\n",
    "                            crs = 'EPSG:3035')\n",
    "    \n",
    "    \n",
    "if __name__ == '__main__':\n",
    "    download_WorldCover(\"CityDistricts/Districts_FrankfurtAmMain.gpkg\",\n",
    "                        \"WorldCover/WorldCover_FrankfurtAmMain.tif\")"
   ]
  }
 ],
 "metadata": {
  "kernelspec": {
   "display_name": "Python 3 (ipykernel)",
   "language": "python",
   "name": "python3"
  },
  "language_info": {
   "codemirror_mode": {
    "name": "ipython",
    "version": 3
   },
   "file_extension": ".py",
   "mimetype": "text/x-python",
   "name": "python",
   "nbconvert_exporter": "python",
   "pygments_lexer": "ipython3",
   "version": "3.11.0"
  }
 },
 "nbformat": 4,
 "nbformat_minor": 5
}
