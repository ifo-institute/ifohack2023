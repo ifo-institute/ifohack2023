{
 "cells": [
  {
   "attachments": {},
   "cell_type": "markdown",
   "metadata": {},
   "source": [
    "## ifo Business Survey challenge"
   ]
  },
  {
   "attachments": {},
   "cell_type": "markdown",
   "metadata": {},
   "source": [
    "> In the ifo Business Survey every month approximately 9,000 German firms are surveyed on their current situation (status quo), recent developments (ex-post), and their plans and expectations for the near future (ex-ante). Build a model which predicts the categorical answers of firms on various questions in the next 12 months. This model can be based on past answers and/or firm-specific information in the micro data of the survey (e.g., firm-size, region, sector)."
   ]
  },
  {
   "cell_type": "code",
   "execution_count": 3,
   "metadata": {},
   "outputs": [
    {
     "data": {
      "image/jpeg": "[encoded data removed]",
      "text/html": [
       "\n",
       "        <iframe\n",
       "            width=\"400\"\n",
       "            height=\"300\"\n",
       "            src=\"https://www.youtube.com/embed/l9uFkSIjPuQ\"\n",
       "            frameborder=\"0\"\n",
       "            allowfullscreen\n",
       "        ></iframe>\n",
       "        "
      ],
      "text/plain": [
       "<IPython.lib.display.YouTubeVideo at 0x23411741190>"
      ]
     },
     "execution_count": 3,
     "metadata": {},
     "output_type": "execute_result"
    }
   ],
   "source": [
    "from IPython.lib.display import YouTubeVideo\n",
    "YouTubeVideo('l9uFkSIjPuQ')"
   ]
  },
  {
   "attachments": {},
   "cell_type": "markdown",
   "metadata": {},
   "source": [
    "- The IBS is a panel survey, i.e. *multiple characteristics* of *multiple entitites* observed *over time*\n",
    "\n",
    "- Each month about 9,000 persons from companies across different industries in Germany are asked the **same questions** (*'Standard questions'*) and sometimes *'Special questions'*\n",
    "\n",
    "- 'Standard questions' guarantee *consistency* and *comparability*\n",
    "\n",
    "- 'Special questions' can be used to investigate *certain shocks* (e.g. Covid-19)\n",
    "\n",
    "- Microdata is weighted and aggregated to a single number, the *ifo Geschäftsklimaindex*\n",
    "\n",
    "- Most important **business cycle indicator** in Germany"
   ]
  },
  {
   "attachments": {},
   "cell_type": "markdown",
   "metadata": {},
   "source": [
    "![Alt text](KT_animation_two_lines_15fps_final.gif)"
   ]
  },
  {
   "attachments": {},
   "cell_type": "markdown",
   "metadata": {},
   "source": [
    "- Answer items are (almost) exclusively qualitative, i.e. admissible values are \n",
    "\n",
    "```python \n",
    "['Good', 'Neutral', 'Bad']\n",
    "['Better', 'Neutral', 'Worse']\n",
    "```\n",
    "\n",
    "Make sure to treat them accordingly in your predictive model!\n",
    "\n",
    "- The ifo Business Climate Index is a *net balance* index, expressing the (weighted) fraction of respondents within a specific group (=industry) who answered in the category with `Good` with respect to those who answered with `Bad`\n",
    "\n",
    "- In this challenge we will focus on industrial production (= 'Verarbeitendes Gewerbe')\n",
    "\n",
    "- Most important question items are `vg_statebus`, `vg_comexp` and `vg_priceexp`"
   ]
  },
  {
   "cell_type": "code",
   "execution_count": 1,
   "metadata": {},
   "outputs": [],
   "source": [
    "english_filepath = \"Variablenliste_KT_Verarbeitendes_Gewerbe_2021b_en.pdf\""
   ]
  },
  {
   "cell_type": "code",
   "execution_count": null,
   "metadata": {},
   "outputs": [],
   "source": [
    "from IPython.display import IFrame, display\n",
    "IFrame(english_filepath, width=980, height=800)"
   ]
  }
 ],
 "metadata": {
  "kernelspec": {
   "display_name": "ifo_tasks",
   "language": "python",
   "name": "ifo_tasks"
  },
  "language_info": {
   "codemirror_mode": {
    "name": "ipython",
    "version": 3
   },
   "file_extension": ".py",
   "mimetype": "text/x-python",
   "name": "python",
   "nbconvert_exporter": "python",
   "pygments_lexer": "ipython3",
   "version": "3.8.16"
  },
  "orig_nbformat": 4
 },
 "nbformat": 4,
 "nbformat_minor": 2
}
