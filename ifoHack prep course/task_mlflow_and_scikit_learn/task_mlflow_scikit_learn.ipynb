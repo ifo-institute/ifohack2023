{
 "cells": [
  {
   "attachments": {},
   "cell_type": "markdown",
   "metadata": {},
   "source": [
    "# MLflow and scikit-learn Task\n",
    "\n",
    "In this task, we replace the ridge regression from the demo with a random forest model.\n"
   ]
  },
  {
   "cell_type": "code",
   "execution_count": null,
   "metadata": {},
   "outputs": [],
   "source": [
    "from sklearn.ensemble import RandomForestRegressor\n",
    "from sklearn.preprocessing import StandardScaler\n",
    "from sklearn.pipeline import Pipeline\n",
    "from sklearn.datasets import fetch_california_housing\n",
    "from sklearn.model_selection import train_test_split\n",
    "from sklearn.metrics import mean_squared_error\n",
    "\n",
    "import mlflow\n",
    "import mlflow.sklearn\n"
   ]
  },
  {
   "attachments": {},
   "cell_type": "markdown",
   "metadata": {},
   "source": [
    "## Data Loading: California Housing Dataset\n",
    "\n",
    "We load the [California housing dataset](https://scikit-learn.org/stable/datasets/real_world.html#california-housing-dataset) for regression.\n",
    "It consists of $20,640$ samples with the following $8$ numeric attributes, and median house values for California districts as targets.\n",
    "\n",
    "- MedInc median income in block group\n",
    "- HouseAge median house age in block group\n",
    "- AveRooms average number of rooms per household\n",
    "- AveBedrms average number of bedrooms per household\n",
    "- Population block group population\n",
    "- AveOccup average number of household members\n",
    "- Latitude block group latitude\n",
    "- Longitude block group longitude\n"
   ]
  },
  {
   "cell_type": "code",
   "execution_count": null,
   "metadata": {},
   "outputs": [],
   "source": [
    "X, y = fetch_california_housing(return_X_y=True, download_if_missing=True)\n",
    "X.shape, y.shape\n"
   ]
  },
  {
   "cell_type": "code",
   "execution_count": null,
   "metadata": {},
   "outputs": [],
   "source": [
    "# split data into train/test\n",
    "X_train, X_test, y_train, y_test = train_test_split(\n",
    "    X, y, test_size=0.25, random_state=42)\n",
    "X_train.shape\n"
   ]
  },
  {
   "attachments": {},
   "cell_type": "markdown",
   "metadata": {},
   "source": [
    "## ML Training\n",
    "\n",
    "### Model Training and Logging\n",
    "\n",
    "Let's use random forest regression to predict house prices.\n",
    "Therefore, we want to find a reasonable maximum depth for the single decision trees.\n",
    "We keep track of several tries and their mean squared error using MLflow.\n",
    "\n",
    "Please note that we ignore best practices like cross validation, feature selection and randomised parameter search for demonstration purposes.\n",
    "\n",
    "**Task:** Setup the pipeline factory with a random forest regressor using $100$ estimators and the specified `max_depth`.\n"
   ]
  },
  {
   "cell_type": "code",
   "execution_count": null,
   "metadata": {},
   "outputs": [],
   "source": [
    "def create_pipeline(max_depth: int) -> Pipeline:\n",
    "    return Pipeline(\n",
    "        steps=[('scalar', StandardScaler()),\n",
    "               ('model', RandomForestRegressor(  # todo\n",
    "               ))])\n"
   ]
  },
  {
   "attachments": {},
   "cell_type": "markdown",
   "metadata": {},
   "source": [
    "**Task:** Choose reasonable hyperparameters to try, and execute the training process.\n"
   ]
  },
  {
   "cell_type": "code",
   "execution_count": null,
   "metadata": {},
   "outputs": [],
   "source": [
    "max_depths_to_try = []  # todo\n",
    "\n",
    "for max_depth in max_depths_to_try:\n",
    "    with mlflow.start_run():\n",
    "        # build a pipeline with a ridge regression model\n",
    "        model_pipeline = create_pipeline(max_depth=max_depth)\n",
    "        model_pipeline.fit(X_train, y_train)\n",
    "\n",
    "        # calculaye the mean squared error using the test data\n",
    "        y_pred = model_pipeline.predict(X=X_test)\n",
    "        mse = mean_squared_error(\n",
    "            y_true=y_test, y_pred=y_pred, squared=True, multioutput='uniform_average')\n",
    "\n",
    "        # log parameters, metrics and the model\n",
    "        mlflow.log_param(key=\"max_depth\", value=max_depth)\n",
    "        mlflow.log_metric(key=\"mean_squared_error\", value=mse)\n",
    "        mlflow.sklearn.log_model(\n",
    "            sk_model=model_pipeline, artifact_path=\"house_model_forest\")\n",
    "\n",
    "        print(\n",
    "            f\"Model saved in run {mlflow.active_run().info.run_uuid}. MSE={mse}\")\n"
   ]
  },
  {
   "attachments": {},
   "cell_type": "markdown",
   "metadata": {},
   "source": [
    "### Assessing the Runs in the MLflow Web-UI\n",
    "\n",
    "**Task:** Inspect the training runs with their parameters and metrics with MLflow's web-UI.\n",
    "Just execute this cell and visit the uri in your web browser.\n",
    "Terminate this cell or the notebook to stop the server.\n"
   ]
  },
  {
   "cell_type": "code",
   "execution_count": null,
   "metadata": {},
   "outputs": [],
   "source": [
    "!mlflow ui\n"
   ]
  }
 ],
 "metadata": {
  "kernelspec": {
   "display_name": "ifo_tasks",
   "language": "python",
   "name": "python3"
  },
  "language_info": {
   "codemirror_mode": {
    "name": "ipython",
    "version": 3
   },
   "file_extension": ".py",
   "mimetype": "text/x-python",
   "name": "python",
   "nbconvert_exporter": "python",
   "pygments_lexer": "ipython3",
   "version": "3.11.2"
  },
  "orig_nbformat": 4
 },
 "nbformat": 4,
 "nbformat_minor": 2
}
