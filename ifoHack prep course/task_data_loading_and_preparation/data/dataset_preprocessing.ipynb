{
 "cells": [
  {
   "attachments": {},
   "cell_type": "markdown",
   "metadata": {},
   "source": [
    "# Dataset Preprocessing\n",
    "\n",
    "This notebook preprocesses the `world_development_indicators` data crawl, and creates CSV and SQLite inputs for the Pandas task.\n"
   ]
  },
  {
   "cell_type": "code",
   "execution_count": null,
   "metadata": {},
   "outputs": [],
   "source": [
    "import pandas as pd\n",
    "import sqlite3\n"
   ]
  },
  {
   "cell_type": "code",
   "execution_count": null,
   "metadata": {},
   "outputs": [],
   "source": [
    "RAW_CSV_PATH = 'world_development_indicators/world_development_indicators_data.csv'\n",
    "df = pd.read_csv(RAW_CSV_PATH)\n",
    "df.head(5)\n"
   ]
  },
  {
   "cell_type": "code",
   "execution_count": null,
   "metadata": {},
   "outputs": [],
   "source": [
    "df.drop(columns=['Country Code', 'Series Code'], inplace=True, axis=1)\n",
    "df = pd.pivot(df, index='Country Name', columns=[\n",
    "              'Series Name'], values=['2020 [YR2020]'])\n",
    "df.columns = [str(s2) for (_, s2) in df.columns.tolist()]\n",
    "df = df.reset_index().rename(columns={'Country Name': 'country_name', 'GDP (current US$)': 'gdp_us_dollar',\n",
    "                                      'Population, total': 'population_total', 'Urban population': 'population_urban',\n",
    "                                      'Government expenditure on education, total (% of GDP)': 'government_expenditure_on_education_perc_of_gdp',\n",
    "                                      'Labor force, total': 'labor_force_total', 'Life expectancy at birth, total (years)': 'life_expectancy_at_birth',\n",
    "                                      'Exports of goods and services (% of GDP)': 'exports_perc_of_gdp', 'Imports of goods and services (% of GDP)': 'imports_perc_of_gdp'})\n",
    "df.head()\n"
   ]
  },
  {
   "cell_type": "code",
   "execution_count": null,
   "metadata": {},
   "outputs": [],
   "source": [
    "df_social = df[['country_name', 'government_expenditure_on_education_perc_of_gdp',\n",
    "                'life_expectancy_at_birth', 'population_total', 'population_urban']]\n",
    "df_economics = df[['country_name', 'exports_perc_of_gdp', 'gdp_us_dollar',\n",
    "                   'imports_perc_of_gdp', 'labor_force_total'\n",
    "                   ]]\n"
   ]
  },
  {
   "cell_type": "code",
   "execution_count": null,
   "metadata": {},
   "outputs": [],
   "source": [
    "df_social.to_csv('social_indicators.csv')\n"
   ]
  },
  {
   "cell_type": "code",
   "execution_count": null,
   "metadata": {},
   "outputs": [],
   "source": [
    "con = sqlite3.connect('economic_indicators.db')\n",
    "df_economics.to_sql(name='economic_statistics', con=con,\n",
    "                    if_exists='replace', index=False)\n"
   ]
  },
  {
   "cell_type": "code",
   "execution_count": null,
   "metadata": {},
   "outputs": [],
   "source": []
  }
 ],
 "metadata": {
  "kernelspec": {
   "display_name": "ifo_tasks",
   "language": "python",
   "name": "python3"
  },
  "language_info": {
   "codemirror_mode": {
    "name": "ipython",
    "version": 3
   },
   "file_extension": ".py",
   "mimetype": "text/x-python",
   "name": "python",
   "nbconvert_exporter": "python",
   "pygments_lexer": "ipython3",
   "version": "3.11.2"
  },
  "orig_nbformat": 4
 },
 "nbformat": 4,
 "nbformat_minor": 2
}
