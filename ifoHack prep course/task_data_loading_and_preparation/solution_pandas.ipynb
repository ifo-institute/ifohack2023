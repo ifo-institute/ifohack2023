{
 "cells": [
  {
   "attachments": {},
   "cell_type": "markdown",
   "metadata": {},
   "source": [
    "# Solution for Pandas Task: Exploratory Analysis of Economic and Social Data\n",
    "\n",
    "In this task, we explore economic and social data using pandas.\n",
    "Therefore, we combine two different data sources: a CSV file and a SQLite database.\n"
   ]
  },
  {
   "cell_type": "code",
   "execution_count": null,
   "metadata": {},
   "outputs": [],
   "source": [
    "import pandas as pd\n",
    "import sqlite3\n"
   ]
  },
  {
   "cell_type": "code",
   "execution_count": null,
   "metadata": {},
   "outputs": [],
   "source": [
    "SOCIAL_CSV_PATH = \"./data/social_indicators.csv\"\n",
    "ECONOMIC_DB_PATH = \"./data/economic_indicators.db\"\n"
   ]
  },
  {
   "attachments": {},
   "cell_type": "markdown",
   "metadata": {},
   "source": [
    "## Data Loading\n",
    "\n",
    "**Task:** Use pandas to load the CSV file with social indicators into a dataframe.\n",
    "`SOCIAL_CSV_PATH` provides the file path.\n",
    "Please note that the first column contains index values.\n"
   ]
  },
  {
   "cell_type": "code",
   "execution_count": null,
   "metadata": {},
   "outputs": [],
   "source": [
    "df_social = pd.read_csv(SOCIAL_CSV_PATH, index_col=0)\n",
    "df_social.head(5)\n"
   ]
  },
  {
   "attachments": {},
   "cell_type": "markdown",
   "metadata": {},
   "source": [
    "**Task:** Use the database connector `db_con` to load the economic data from the database. More precisely, write a query to load the whole table `economic_statistics`.\n"
   ]
  },
  {
   "cell_type": "code",
   "execution_count": null,
   "metadata": {},
   "outputs": [],
   "source": [
    "db_con = sqlite3.connect(ECONOMIC_DB_PATH)\n",
    "df_economic = pd.read_sql(sql=\"SELECT * FROM economic_statistics;\", con=db_con)\n",
    "df_economic.head(5)\n"
   ]
  },
  {
   "attachments": {},
   "cell_type": "markdown",
   "metadata": {},
   "source": [
    "## Data Preprocessing\n",
    "\n",
    "**Task:** Merge both data frames using the `country_name` column.\n"
   ]
  },
  {
   "cell_type": "code",
   "execution_count": null,
   "metadata": {},
   "outputs": [],
   "source": [
    "df_indicators = df_social.merge(df_economic, on=\"country_name\", how=\"inner\")\n",
    "df_indicators.head(5)\n"
   ]
  },
  {
   "attachments": {},
   "cell_type": "markdown",
   "metadata": {},
   "source": [
    "Let's have a look at the meta data.\n"
   ]
  },
  {
   "cell_type": "code",
   "execution_count": null,
   "metadata": {},
   "outputs": [],
   "source": [
    "df_indicators.info()\n"
   ]
  },
  {
   "attachments": {},
   "cell_type": "markdown",
   "metadata": {},
   "source": [
    "There are some unknown values, hindering to infer integer columns.\n",
    "\n",
    "**Task:** Drop unknown values\n"
   ]
  },
  {
   "cell_type": "code",
   "execution_count": null,
   "metadata": {},
   "outputs": [],
   "source": [
    "df_indicators.dropna(inplace=True)\n"
   ]
  },
  {
   "attachments": {},
   "cell_type": "markdown",
   "metadata": {},
   "source": [
    "Let's use more specific data types.\n"
   ]
  },
  {
   "cell_type": "code",
   "execution_count": null,
   "metadata": {},
   "outputs": [],
   "source": [
    "df_indicators = df_indicators.astype(\n",
    "    {'country_name': 'string', 'population_total': 'int64', 'population_urban': 'int64', 'labor_force_total': 'int64'})\n",
    "df_indicators.info()\n"
   ]
  },
  {
   "attachments": {},
   "cell_type": "markdown",
   "metadata": {},
   "source": [
    "**Task:** Describe the numerical columns with general statistics.\n"
   ]
  },
  {
   "cell_type": "code",
   "execution_count": null,
   "metadata": {},
   "outputs": [],
   "source": [
    "df_indicators.describe()\n"
   ]
  },
  {
   "attachments": {},
   "cell_type": "markdown",
   "metadata": {},
   "source": [
    "## Exploratory Data Analysis\n",
    "\n",
    "Please answer the following questions using our sample `df_indicators`.\n",
    "\n",
    "**Question 1:** How many people live in a city?\n"
   ]
  },
  {
   "cell_type": "code",
   "execution_count": null,
   "metadata": {},
   "outputs": [],
   "source": [
    "df_indicators.population_urban.sum()\n"
   ]
  },
  {
   "attachments": {},
   "cell_type": "markdown",
   "metadata": {},
   "source": [
    "**Question 2:** How many people are unemployed on average? Add a new column `unemployed_total` and calculate its mean.\n"
   ]
  },
  {
   "cell_type": "code",
   "execution_count": null,
   "metadata": {},
   "outputs": [],
   "source": [
    "df_indicators['unemployed_total'] = df_indicators.population_total - \\\n",
    "    df_indicators.labor_force_total\n",
    "df_indicators.unemployed_total.mean()\n"
   ]
  },
  {
   "attachments": {},
   "cell_type": "markdown",
   "metadata": {},
   "source": [
    "**Question 3:** How many countries have higher export rates than import rates? Hint: You can sum up `bool` values, where `True=1` and `False=0`.\n"
   ]
  },
  {
   "cell_type": "code",
   "execution_count": null,
   "metadata": {},
   "outputs": [],
   "source": [
    "df_indicators['more_export_than_import'] = df_indicators.exports_perc_of_gdp > df_indicators.imports_perc_of_gdp\n",
    "df_indicators.more_export_than_import.sum()\n"
   ]
  },
  {
   "attachments": {},
   "cell_type": "markdown",
   "metadata": {},
   "source": [
    "Let's define the `development_index` column as followed: $\\frac{e}{p} + l$, where $e$ is the total expenditure on education (use the GDP to calculate it), $p$ is the total population, and $l$ is the life expectancy at birth.\n"
   ]
  },
  {
   "cell_type": "code",
   "execution_count": null,
   "metadata": {},
   "outputs": [],
   "source": [
    "df_indicators['development_index'] = df_indicators.government_expenditure_on_education_perc_of_gdp * \\\n",
    "    df_indicators.gdp_us_dollar / df_indicators.population_total + \\\n",
    "    df_indicators.life_expectancy_at_birth\n"
   ]
  },
  {
   "attachments": {},
   "cell_type": "markdown",
   "metadata": {},
   "source": [
    "**Question 4:** Which ten countries have the highest `development_index`? Only display `country_name` and `development_index`.\n"
   ]
  },
  {
   "cell_type": "code",
   "execution_count": null,
   "metadata": {},
   "outputs": [],
   "source": [
    "df_indicators.sort_values(by='development_index', ascending=False)[\n",
    "    ['country_name', 'development_index']].head(10)\n"
   ]
  },
  {
   "attachments": {},
   "cell_type": "markdown",
   "metadata": {},
   "source": [
    "**Bonus task:** We define the `development_level` as a category for the top, medium and low third of all countries regarding the `development_index`. How many people live in countries with a respective `development_level`?\n"
   ]
  },
  {
   "cell_type": "code",
   "execution_count": null,
   "metadata": {},
   "outputs": [],
   "source": [
    "df_indicators['development_level'] = pd.cut(\n",
    "    x=df_indicators.development_index, bins=3, labels=[\"low\", \"medium\", \"top\"])\n",
    "df_indicators[['country_name', 'development_index',\n",
    "               'development_level']].sort_values(by='development_index')\n"
   ]
  },
  {
   "cell_type": "code",
   "execution_count": null,
   "metadata": {},
   "outputs": [],
   "source": [
    "df_indicators.groupby(by='development_level').agg({'population_total': 'sum'})\n"
   ]
  },
  {
   "cell_type": "code",
   "execution_count": null,
   "metadata": {},
   "outputs": [],
   "source": []
  }
 ],
 "metadata": {
  "kernelspec": {
   "display_name": "ifo_tasks",
   "language": "python",
   "name": "python3"
  },
  "language_info": {
   "codemirror_mode": {
    "name": "ipython",
    "version": 3
   },
   "file_extension": ".py",
   "mimetype": "text/x-python",
   "name": "python",
   "nbconvert_exporter": "python",
   "pygments_lexer": "ipython3",
   "version": "3.11.2"
  },
  "orig_nbformat": 4
 },
 "nbformat": 4,
 "nbformat_minor": 2
}
