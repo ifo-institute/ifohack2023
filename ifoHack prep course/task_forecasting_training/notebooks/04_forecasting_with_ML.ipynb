{
 "cells": [
  {
   "cell_type": "code",
   "execution_count": 1,
   "metadata": {},
   "outputs": [],
   "source": [
    "import numpy as np\n",
    "import pandas as pd\n",
    "import matplotlib.pyplot as plt\n",
    "from tqdm.notebook import tqdm, tnrange\n",
    "from gluonts.dataset.repository.datasets import get_dataset, dataset_recipes\n",
    "from gluonts.dataset.util import to_pandas"
   ]
  },
  {
   "attachments": {},
   "cell_type": "markdown",
   "metadata": {},
   "source": [
    "# Load the data"
   ]
  },
  {
   "attachments": {},
   "cell_type": "markdown",
   "metadata": {},
   "source": [
    "`GluonTS` comes with many datasets already prepared in its format. We will use the london smart meters dataset"
   ]
  },
  {
   "cell_type": "code",
   "execution_count": 2,
   "metadata": {},
   "outputs": [
    {
     "name": "stderr",
     "output_type": "stream",
     "text": [
      "Download london_smart_meters_dataset_without_missing_values.zip:: 209MB [05:34, 657kB/s]                            \n",
      "creating json files: 100%|██████████| 5560/5560 [00:00<00:00, 102218.04it/s]\n"
     ]
    }
   ],
   "source": [
    "ds = get_dataset(\"london_smart_meters_without_missing\")"
   ]
  },
  {
   "attachments": {},
   "cell_type": "markdown",
   "metadata": {},
   "source": [
    "`TrainDataset` consits of train (subset), test(all), and metadata\n",
    "\n",
    "We use test, since it contains all the data for our exercise"
   ]
  },
  {
   "cell_type": "code",
   "execution_count": 3,
   "metadata": {},
   "outputs": [
    {
     "data": {
      "text/plain": [
       "DatasetCollection(datasets=[Map(fn=<gluonts.dataset.common.ProcessDataEntry object at 0x7fb63addda60>, iterable=JsonLinesFile(path=PosixPath('/home/vscode/.mxnet/gluon-ts/datasets/london_smart_meters_without_missing/test/data.json.gz'), start=0, n=None))], interleave=False)"
      ]
     },
     "execution_count": 3,
     "metadata": {},
     "output_type": "execute_result"
    }
   ],
   "source": [
    "ds.test"
   ]
  },
  {
   "attachments": {},
   "cell_type": "markdown",
   "metadata": {},
   "source": [
    "we convert it to an iterator"
   ]
  },
  {
   "cell_type": "code",
   "execution_count": 4,
   "metadata": {},
   "outputs": [],
   "source": [
    "iterator = ds.test.iter_sequential()"
   ]
  },
  {
   "attachments": {},
   "cell_type": "markdown",
   "metadata": {},
   "source": [
    "here we yield the first time series and convert it to pandas"
   ]
  },
  {
   "cell_type": "code",
   "execution_count": 5,
   "metadata": {},
   "outputs": [],
   "source": [
    "item = next(iterator)"
   ]
  },
  {
   "attachments": {},
   "cell_type": "markdown",
   "metadata": {},
   "source": [
    "GluonTS is a dictionary containing the target, start, and aditional features"
   ]
  },
  {
   "cell_type": "code",
   "execution_count": 6,
   "metadata": {},
   "outputs": [
    {
     "data": {
      "text/plain": [
       "{'target': array([0.263, 0.269, 0.275, ..., 1.35 , 1.247, 1.218], dtype=float32),\n",
       " 'start': Period('2012-10-13 00:00', '30T'),\n",
       " 'item_id': 'T1'}"
      ]
     },
     "execution_count": 6,
     "metadata": {},
     "output_type": "execute_result"
    }
   ],
   "source": [
    "item"
   ]
  },
  {
   "attachments": {},
   "cell_type": "markdown",
   "metadata": {},
   "source": [
    "Lets create a pandas `dataset` where we will add columns as features. We need to cast it to `pd.DataFrame` as `to_pandas()` returns a `pd.Series`"
   ]
  },
  {
   "cell_type": "code",
   "execution_count": 48,
   "metadata": {},
   "outputs": [],
   "source": [
    "dataset = pd.DataFrame(to_pandas(item))"
   ]
  },
  {
   "cell_type": "code",
   "execution_count": 51,
   "metadata": {},
   "outputs": [],
   "source": [
    "dataset = dataset.reset_index().rename(\n",
    "    columns={0: \"target\", \"index\": \"date\"}\n",
    ")"
   ]
  },
  {
   "cell_type": "code",
   "execution_count": 9,
   "metadata": {},
   "outputs": [
    {
     "data": {
      "text/html": [
       "<div>\n",
       "<style scoped>\n",
       "    .dataframe tbody tr th:only-of-type {\n",
       "        vertical-align: middle;\n",
       "    }\n",
       "\n",
       "    .dataframe tbody tr th {\n",
       "        vertical-align: top;\n",
       "    }\n",
       "\n",
       "    .dataframe thead th {\n",
       "        text-align: right;\n",
       "    }\n",
       "</style>\n",
       "<table border=\"1\" class=\"dataframe\">\n",
       "  <thead>\n",
       "    <tr style=\"text-align: right;\">\n",
       "      <th></th>\n",
       "      <th>date</th>\n",
       "      <th>target</th>\n",
       "    </tr>\n",
       "  </thead>\n",
       "  <tbody>\n",
       "    <tr>\n",
       "      <th>0</th>\n",
       "      <td>2012-10-13 00:00</td>\n",
       "      <td>0.263</td>\n",
       "    </tr>\n",
       "    <tr>\n",
       "      <th>1</th>\n",
       "      <td>2012-10-13 00:30</td>\n",
       "      <td>0.269</td>\n",
       "    </tr>\n",
       "    <tr>\n",
       "      <th>2</th>\n",
       "      <td>2012-10-13 01:00</td>\n",
       "      <td>0.275</td>\n",
       "    </tr>\n",
       "    <tr>\n",
       "      <th>3</th>\n",
       "      <td>2012-10-13 01:30</td>\n",
       "      <td>0.256</td>\n",
       "    </tr>\n",
       "    <tr>\n",
       "      <th>4</th>\n",
       "      <td>2012-10-13 02:00</td>\n",
       "      <td>0.211</td>\n",
       "    </tr>\n",
       "  </tbody>\n",
       "</table>\n",
       "</div>"
      ],
      "text/plain": [
       "               date  target\n",
       "0  2012-10-13 00:00   0.263\n",
       "1  2012-10-13 00:30   0.269\n",
       "2  2012-10-13 01:00   0.275\n",
       "3  2012-10-13 01:30   0.256\n",
       "4  2012-10-13 02:00   0.211"
      ]
     },
     "execution_count": 9,
     "metadata": {},
     "output_type": "execute_result"
    }
   ],
   "source": [
    "dataset.head()"
   ]
  },
  {
   "cell_type": "code",
   "execution_count": 10,
   "metadata": {},
   "outputs": [
    {
     "data": {
      "text/plain": [
       "<Axes: xlabel='date'>"
      ]
     },
     "execution_count": 10,
     "metadata": {},
     "output_type": "execute_result"
    },
    {
     "data": {
      "image/png": "[encoded data removed]",
      "text/plain": [
       "<Figure size 640x480 with 1 Axes>"
      ]
     },
     "metadata": {},
     "output_type": "display_data"
    }
   ],
   "source": [
    "dataset.set_index(\"date\").target.plot()"
   ]
  },
  {
   "attachments": {},
   "cell_type": "markdown",
   "metadata": {},
   "source": [
    "### Feature Engineering (temporal and time delay embedding)"
   ]
  },
  {
   "attachments": {},
   "cell_type": "markdown",
   "metadata": {},
   "source": [
    "#### Add time features"
   ]
  },
  {
   "cell_type": "code",
   "execution_count": 11,
   "metadata": {},
   "outputs": [],
   "source": [
    "def add_time_features(dataset):\n",
    "    \n",
    "    dataset = dataset.assign(month=dataset.date.dt.month)\n",
    "    dataset = dataset.assign(week=dataset.date.dt.isocalendar().week.astype(int))\n",
    "    dataset = dataset.assign(day=dataset.date.dt.day)\n",
    "    dataset = dataset.assign(day_of_week=dataset.date.dt.day_of_week)\n",
    "    dataset = dataset.assign(day_of_year=dataset.date.dt.day_of_year)\n",
    "    dataset = dataset.assign(hour=dataset.date.dt.hour)\n",
    "    dataset = dataset.assign(minute=dataset.date.dt.minute)\n",
    "    dataset = dataset.assign(log_age=np.log(dataset.index + 1))\n",
    "\n",
    "    return dataset"
   ]
  },
  {
   "cell_type": "code",
   "execution_count": 12,
   "metadata": {},
   "outputs": [],
   "source": [
    "dataset = add_time_features(dataset)"
   ]
  },
  {
   "attachments": {},
   "cell_type": "markdown",
   "metadata": {},
   "source": [
    "#### Add Lags"
   ]
  },
  {
   "cell_type": "code",
   "execution_count": 13,
   "metadata": {},
   "outputs": [],
   "source": [
    "for lag in range(1, 49):\n",
    "    kwargs = {f\"lag_{lag}\" : dataset.target.shift(lag)}\n",
    "    dataset = dataset.assign(**kwargs)"
   ]
  },
  {
   "cell_type": "code",
   "execution_count": 14,
   "metadata": {},
   "outputs": [
    {
     "data": {
      "text/html": [
       "<div>\n",
       "<style scoped>\n",
       "    .dataframe tbody tr th:only-of-type {\n",
       "        vertical-align: middle;\n",
       "    }\n",
       "\n",
       "    .dataframe tbody tr th {\n",
       "        vertical-align: top;\n",
       "    }\n",
       "\n",
       "    .dataframe thead th {\n",
       "        text-align: right;\n",
       "    }\n",
       "</style>\n",
       "<table border=\"1\" class=\"dataframe\">\n",
       "  <thead>\n",
       "    <tr style=\"text-align: right;\">\n",
       "      <th></th>\n",
       "      <th>date</th>\n",
       "      <th>target</th>\n",
       "      <th>month</th>\n",
       "      <th>week</th>\n",
       "      <th>day</th>\n",
       "      <th>day_of_week</th>\n",
       "      <th>day_of_year</th>\n",
       "      <th>hour</th>\n",
       "      <th>minute</th>\n",
       "      <th>log_age</th>\n",
       "      <th>...</th>\n",
       "      <th>lag_39</th>\n",
       "      <th>lag_40</th>\n",
       "      <th>lag_41</th>\n",
       "      <th>lag_42</th>\n",
       "      <th>lag_43</th>\n",
       "      <th>lag_44</th>\n",
       "      <th>lag_45</th>\n",
       "      <th>lag_46</th>\n",
       "      <th>lag_47</th>\n",
       "      <th>lag_48</th>\n",
       "    </tr>\n",
       "  </thead>\n",
       "  <tbody>\n",
       "    <tr>\n",
       "      <th>0</th>\n",
       "      <td>2012-10-13 00:00</td>\n",
       "      <td>0.263</td>\n",
       "      <td>10</td>\n",
       "      <td>41</td>\n",
       "      <td>13</td>\n",
       "      <td>5</td>\n",
       "      <td>287</td>\n",
       "      <td>0</td>\n",
       "      <td>0</td>\n",
       "      <td>0.000000</td>\n",
       "      <td>...</td>\n",
       "      <td>NaN</td>\n",
       "      <td>NaN</td>\n",
       "      <td>NaN</td>\n",
       "      <td>NaN</td>\n",
       "      <td>NaN</td>\n",
       "      <td>NaN</td>\n",
       "      <td>NaN</td>\n",
       "      <td>NaN</td>\n",
       "      <td>NaN</td>\n",
       "      <td>NaN</td>\n",
       "    </tr>\n",
       "    <tr>\n",
       "      <th>1</th>\n",
       "      <td>2012-10-13 00:30</td>\n",
       "      <td>0.269</td>\n",
       "      <td>10</td>\n",
       "      <td>41</td>\n",
       "      <td>13</td>\n",
       "      <td>5</td>\n",
       "      <td>287</td>\n",
       "      <td>0</td>\n",
       "      <td>30</td>\n",
       "      <td>0.693147</td>\n",
       "      <td>...</td>\n",
       "      <td>NaN</td>\n",
       "      <td>NaN</td>\n",
       "      <td>NaN</td>\n",
       "      <td>NaN</td>\n",
       "      <td>NaN</td>\n",
       "      <td>NaN</td>\n",
       "      <td>NaN</td>\n",
       "      <td>NaN</td>\n",
       "      <td>NaN</td>\n",
       "      <td>NaN</td>\n",
       "    </tr>\n",
       "    <tr>\n",
       "      <th>2</th>\n",
       "      <td>2012-10-13 01:00</td>\n",
       "      <td>0.275</td>\n",
       "      <td>10</td>\n",
       "      <td>41</td>\n",
       "      <td>13</td>\n",
       "      <td>5</td>\n",
       "      <td>287</td>\n",
       "      <td>1</td>\n",
       "      <td>0</td>\n",
       "      <td>1.098612</td>\n",
       "      <td>...</td>\n",
       "      <td>NaN</td>\n",
       "      <td>NaN</td>\n",
       "      <td>NaN</td>\n",
       "      <td>NaN</td>\n",
       "      <td>NaN</td>\n",
       "      <td>NaN</td>\n",
       "      <td>NaN</td>\n",
       "      <td>NaN</td>\n",
       "      <td>NaN</td>\n",
       "      <td>NaN</td>\n",
       "    </tr>\n",
       "    <tr>\n",
       "      <th>3</th>\n",
       "      <td>2012-10-13 01:30</td>\n",
       "      <td>0.256</td>\n",
       "      <td>10</td>\n",
       "      <td>41</td>\n",
       "      <td>13</td>\n",
       "      <td>5</td>\n",
       "      <td>287</td>\n",
       "      <td>1</td>\n",
       "      <td>30</td>\n",
       "      <td>1.386294</td>\n",
       "      <td>...</td>\n",
       "      <td>NaN</td>\n",
       "      <td>NaN</td>\n",
       "      <td>NaN</td>\n",
       "      <td>NaN</td>\n",
       "      <td>NaN</td>\n",
       "      <td>NaN</td>\n",
       "      <td>NaN</td>\n",
       "      <td>NaN</td>\n",
       "      <td>NaN</td>\n",
       "      <td>NaN</td>\n",
       "    </tr>\n",
       "    <tr>\n",
       "      <th>4</th>\n",
       "      <td>2012-10-13 02:00</td>\n",
       "      <td>0.211</td>\n",
       "      <td>10</td>\n",
       "      <td>41</td>\n",
       "      <td>13</td>\n",
       "      <td>5</td>\n",
       "      <td>287</td>\n",
       "      <td>2</td>\n",
       "      <td>0</td>\n",
       "      <td>1.609438</td>\n",
       "      <td>...</td>\n",
       "      <td>NaN</td>\n",
       "      <td>NaN</td>\n",
       "      <td>NaN</td>\n",
       "      <td>NaN</td>\n",
       "      <td>NaN</td>\n",
       "      <td>NaN</td>\n",
       "      <td>NaN</td>\n",
       "      <td>NaN</td>\n",
       "      <td>NaN</td>\n",
       "      <td>NaN</td>\n",
       "    </tr>\n",
       "  </tbody>\n",
       "</table>\n",
       "<p>5 rows × 58 columns</p>\n",
       "</div>"
      ],
      "text/plain": [
       "               date  target  month  week  day  day_of_week  day_of_year  hour  \\\n",
       "0  2012-10-13 00:00   0.263     10    41   13            5          287     0   \n",
       "1  2012-10-13 00:30   0.269     10    41   13            5          287     0   \n",
       "2  2012-10-13 01:00   0.275     10    41   13            5          287     1   \n",
       "3  2012-10-13 01:30   0.256     10    41   13            5          287     1   \n",
       "4  2012-10-13 02:00   0.211     10    41   13            5          287     2   \n",
       "\n",
       "   minute   log_age  ...  lag_39  lag_40  lag_41  lag_42  lag_43  lag_44  \\\n",
       "0       0  0.000000  ...     NaN     NaN     NaN     NaN     NaN     NaN   \n",
       "1      30  0.693147  ...     NaN     NaN     NaN     NaN     NaN     NaN   \n",
       "2       0  1.098612  ...     NaN     NaN     NaN     NaN     NaN     NaN   \n",
       "3      30  1.386294  ...     NaN     NaN     NaN     NaN     NaN     NaN   \n",
       "4       0  1.609438  ...     NaN     NaN     NaN     NaN     NaN     NaN   \n",
       "\n",
       "   lag_45  lag_46  lag_47  lag_48  \n",
       "0     NaN     NaN     NaN     NaN  \n",
       "1     NaN     NaN     NaN     NaN  \n",
       "2     NaN     NaN     NaN     NaN  \n",
       "3     NaN     NaN     NaN     NaN  \n",
       "4     NaN     NaN     NaN     NaN  \n",
       "\n",
       "[5 rows x 58 columns]"
      ]
     },
     "execution_count": 14,
     "metadata": {},
     "output_type": "execute_result"
    }
   ],
   "source": [
    "dataset.head()"
   ]
  },
  {
   "attachments": {},
   "cell_type": "markdown",
   "metadata": {},
   "source": [
    "Adding lags has introduced `NaN`. We can either drop the rows with NaNs or back fill them"
   ]
  },
  {
   "attachments": {},
   "cell_type": "markdown",
   "metadata": {},
   "source": [
    "#### Add \n",
    "- percent change\n",
    "- absolute difference\n",
    "- ..."
   ]
  },
  {
   "cell_type": "code",
   "execution_count": 15,
   "metadata": {},
   "outputs": [],
   "source": [
    "for period in range(1, 49, 8):\n",
    "    dataset[f\"pct_change_{period}\"] = dataset[\"target\"].pct_change(periods=period)\n",
    "    dataset[f\"diff_{period}\"] = dataset[\"target\"].diff(periods=period)"
   ]
  },
  {
   "cell_type": "code",
   "execution_count": 16,
   "metadata": {},
   "outputs": [
    {
     "data": {
      "text/html": [
       "<div>\n",
       "<style scoped>\n",
       "    .dataframe tbody tr th:only-of-type {\n",
       "        vertical-align: middle;\n",
       "    }\n",
       "\n",
       "    .dataframe tbody tr th {\n",
       "        vertical-align: top;\n",
       "    }\n",
       "\n",
       "    .dataframe thead th {\n",
       "        text-align: right;\n",
       "    }\n",
       "</style>\n",
       "<table border=\"1\" class=\"dataframe\">\n",
       "  <thead>\n",
       "    <tr style=\"text-align: right;\">\n",
       "      <th></th>\n",
       "      <th>date</th>\n",
       "      <th>target</th>\n",
       "      <th>month</th>\n",
       "      <th>week</th>\n",
       "      <th>day</th>\n",
       "      <th>day_of_week</th>\n",
       "      <th>day_of_year</th>\n",
       "      <th>hour</th>\n",
       "      <th>minute</th>\n",
       "      <th>log_age</th>\n",
       "      <th>...</th>\n",
       "      <th>pct_change_9</th>\n",
       "      <th>diff_9</th>\n",
       "      <th>pct_change_17</th>\n",
       "      <th>diff_17</th>\n",
       "      <th>pct_change_25</th>\n",
       "      <th>diff_25</th>\n",
       "      <th>pct_change_33</th>\n",
       "      <th>diff_33</th>\n",
       "      <th>pct_change_41</th>\n",
       "      <th>diff_41</th>\n",
       "    </tr>\n",
       "  </thead>\n",
       "  <tbody>\n",
       "    <tr>\n",
       "      <th>0</th>\n",
       "      <td>2012-10-13 00:00</td>\n",
       "      <td>0.263</td>\n",
       "      <td>10</td>\n",
       "      <td>41</td>\n",
       "      <td>13</td>\n",
       "      <td>5</td>\n",
       "      <td>287</td>\n",
       "      <td>0</td>\n",
       "      <td>0</td>\n",
       "      <td>0.000000</td>\n",
       "      <td>...</td>\n",
       "      <td>NaN</td>\n",
       "      <td>NaN</td>\n",
       "      <td>NaN</td>\n",
       "      <td>NaN</td>\n",
       "      <td>NaN</td>\n",
       "      <td>NaN</td>\n",
       "      <td>NaN</td>\n",
       "      <td>NaN</td>\n",
       "      <td>NaN</td>\n",
       "      <td>NaN</td>\n",
       "    </tr>\n",
       "    <tr>\n",
       "      <th>1</th>\n",
       "      <td>2012-10-13 00:30</td>\n",
       "      <td>0.269</td>\n",
       "      <td>10</td>\n",
       "      <td>41</td>\n",
       "      <td>13</td>\n",
       "      <td>5</td>\n",
       "      <td>287</td>\n",
       "      <td>0</td>\n",
       "      <td>30</td>\n",
       "      <td>0.693147</td>\n",
       "      <td>...</td>\n",
       "      <td>NaN</td>\n",
       "      <td>NaN</td>\n",
       "      <td>NaN</td>\n",
       "      <td>NaN</td>\n",
       "      <td>NaN</td>\n",
       "      <td>NaN</td>\n",
       "      <td>NaN</td>\n",
       "      <td>NaN</td>\n",
       "      <td>NaN</td>\n",
       "      <td>NaN</td>\n",
       "    </tr>\n",
       "    <tr>\n",
       "      <th>2</th>\n",
       "      <td>2012-10-13 01:00</td>\n",
       "      <td>0.275</td>\n",
       "      <td>10</td>\n",
       "      <td>41</td>\n",
       "      <td>13</td>\n",
       "      <td>5</td>\n",
       "      <td>287</td>\n",
       "      <td>1</td>\n",
       "      <td>0</td>\n",
       "      <td>1.098612</td>\n",
       "      <td>...</td>\n",
       "      <td>NaN</td>\n",
       "      <td>NaN</td>\n",
       "      <td>NaN</td>\n",
       "      <td>NaN</td>\n",
       "      <td>NaN</td>\n",
       "      <td>NaN</td>\n",
       "      <td>NaN</td>\n",
       "      <td>NaN</td>\n",
       "      <td>NaN</td>\n",
       "      <td>NaN</td>\n",
       "    </tr>\n",
       "    <tr>\n",
       "      <th>3</th>\n",
       "      <td>2012-10-13 01:30</td>\n",
       "      <td>0.256</td>\n",
       "      <td>10</td>\n",
       "      <td>41</td>\n",
       "      <td>13</td>\n",
       "      <td>5</td>\n",
       "      <td>287</td>\n",
       "      <td>1</td>\n",
       "      <td>30</td>\n",
       "      <td>1.386294</td>\n",
       "      <td>...</td>\n",
       "      <td>NaN</td>\n",
       "      <td>NaN</td>\n",
       "      <td>NaN</td>\n",
       "      <td>NaN</td>\n",
       "      <td>NaN</td>\n",
       "      <td>NaN</td>\n",
       "      <td>NaN</td>\n",
       "      <td>NaN</td>\n",
       "      <td>NaN</td>\n",
       "      <td>NaN</td>\n",
       "    </tr>\n",
       "    <tr>\n",
       "      <th>4</th>\n",
       "      <td>2012-10-13 02:00</td>\n",
       "      <td>0.211</td>\n",
       "      <td>10</td>\n",
       "      <td>41</td>\n",
       "      <td>13</td>\n",
       "      <td>5</td>\n",
       "      <td>287</td>\n",
       "      <td>2</td>\n",
       "      <td>0</td>\n",
       "      <td>1.609438</td>\n",
       "      <td>...</td>\n",
       "      <td>NaN</td>\n",
       "      <td>NaN</td>\n",
       "      <td>NaN</td>\n",
       "      <td>NaN</td>\n",
       "      <td>NaN</td>\n",
       "      <td>NaN</td>\n",
       "      <td>NaN</td>\n",
       "      <td>NaN</td>\n",
       "      <td>NaN</td>\n",
       "      <td>NaN</td>\n",
       "    </tr>\n",
       "  </tbody>\n",
       "</table>\n",
       "<p>5 rows × 70 columns</p>\n",
       "</div>"
      ],
      "text/plain": [
       "               date  target  month  week  day  day_of_week  day_of_year  hour  \\\n",
       "0  2012-10-13 00:00   0.263     10    41   13            5          287     0   \n",
       "1  2012-10-13 00:30   0.269     10    41   13            5          287     0   \n",
       "2  2012-10-13 01:00   0.275     10    41   13            5          287     1   \n",
       "3  2012-10-13 01:30   0.256     10    41   13            5          287     1   \n",
       "4  2012-10-13 02:00   0.211     10    41   13            5          287     2   \n",
       "\n",
       "   minute   log_age  ...  pct_change_9  diff_9  pct_change_17  diff_17  \\\n",
       "0       0  0.000000  ...           NaN     NaN            NaN      NaN   \n",
       "1      30  0.693147  ...           NaN     NaN            NaN      NaN   \n",
       "2       0  1.098612  ...           NaN     NaN            NaN      NaN   \n",
       "3      30  1.386294  ...           NaN     NaN            NaN      NaN   \n",
       "4       0  1.609438  ...           NaN     NaN            NaN      NaN   \n",
       "\n",
       "   pct_change_25  diff_25  pct_change_33  diff_33  pct_change_41  diff_41  \n",
       "0            NaN      NaN            NaN      NaN            NaN      NaN  \n",
       "1            NaN      NaN            NaN      NaN            NaN      NaN  \n",
       "2            NaN      NaN            NaN      NaN            NaN      NaN  \n",
       "3            NaN      NaN            NaN      NaN            NaN      NaN  \n",
       "4            NaN      NaN            NaN      NaN            NaN      NaN  \n",
       "\n",
       "[5 rows x 70 columns]"
      ]
     },
     "execution_count": 16,
     "metadata": {},
     "output_type": "execute_result"
    }
   ],
   "source": [
    "dataset.head()"
   ]
  },
  {
   "attachments": {},
   "cell_type": "markdown",
   "metadata": {},
   "source": [
    "### Add Rolling window aggregations"
   ]
  },
  {
   "cell_type": "code",
   "execution_count": 17,
   "metadata": {},
   "outputs": [
    {
     "name": "stderr",
     "output_type": "stream",
     "text": [
      "/tmp/ipykernel_17907/1087934343.py:3: PerformanceWarning: DataFrame is highly fragmented.  This is usually the result of calling `frame.insert` many times, which has poor performance.  Consider joining all columns at once using pd.concat(axis=1) instead. To get a de-fragmented frame, use `newframe = frame.copy()`\n",
      "  dataset[f\"median_{period}\"] = dataset[\"target\"].rolling(period).median()\n",
      "/tmp/ipykernel_17907/1087934343.py:4: PerformanceWarning: DataFrame is highly fragmented.  This is usually the result of calling `frame.insert` many times, which has poor performance.  Consider joining all columns at once using pd.concat(axis=1) instead. To get a de-fragmented frame, use `newframe = frame.copy()`\n",
      "  dataset[f\"std_{period}\"] = dataset[\"target\"].rolling(period).std()\n",
      "/tmp/ipykernel_17907/1087934343.py:5: PerformanceWarning: DataFrame is highly fragmented.  This is usually the result of calling `frame.insert` many times, which has poor performance.  Consider joining all columns at once using pd.concat(axis=1) instead. To get a de-fragmented frame, use `newframe = frame.copy()`\n",
      "  dataset[f\"min_{period}\"] = dataset[\"target\"].rolling(period).min()\n",
      "/tmp/ipykernel_17907/1087934343.py:6: PerformanceWarning: DataFrame is highly fragmented.  This is usually the result of calling `frame.insert` many times, which has poor performance.  Consider joining all columns at once using pd.concat(axis=1) instead. To get a de-fragmented frame, use `newframe = frame.copy()`\n",
      "  dataset[f\"max_{period}\"] = dataset[\"target\"].rolling(period).max()\n",
      "/tmp/ipykernel_17907/1087934343.py:7: PerformanceWarning: DataFrame is highly fragmented.  This is usually the result of calling `frame.insert` many times, which has poor performance.  Consider joining all columns at once using pd.concat(axis=1) instead. To get a de-fragmented frame, use `newframe = frame.copy()`\n",
      "  dataset[f\"sum_{period}\"] = dataset[\"target\"].rolling(period).sum()\n"
     ]
    }
   ],
   "source": [
    "for period in range(5, 49, 8):\n",
    "    dataset[f\"mean_{period}\"] = dataset[\"target\"].rolling(period).mean()\n",
    "    dataset[f\"median_{period}\"] = dataset[\"target\"].rolling(period).median()\n",
    "    dataset[f\"std_{period}\"] = dataset[\"target\"].rolling(period).std()\n",
    "    dataset[f\"min_{period}\"] = dataset[\"target\"].rolling(period).min()\n",
    "    dataset[f\"max_{period}\"] = dataset[\"target\"].rolling(period).max()\n",
    "    dataset[f\"sum_{period}\"] = dataset[\"target\"].rolling(period).sum()"
   ]
  },
  {
   "cell_type": "code",
   "execution_count": 18,
   "metadata": {},
   "outputs": [],
   "source": [
    "dataset.dropna(inplace=True)"
   ]
  },
  {
   "attachments": {},
   "cell_type": "markdown",
   "metadata": {},
   "source": [
    "##### We can now define a model, but first we need to split the data into train and test. We will use the data upto 2014 for training and from 2014 for testing"
   ]
  },
  {
   "cell_type": "code",
   "execution_count": 19,
   "metadata": {},
   "outputs": [],
   "source": [
    "train = dataset[dataset[\"date\"]<\"2014\"]\n",
    "test = dataset[dataset[\"date\"]>=\"2014\"]"
   ]
  },
  {
   "cell_type": "code",
   "execution_count": 20,
   "metadata": {},
   "outputs": [],
   "source": [
    "from lightgbm import LGBMRegressor"
   ]
  },
  {
   "cell_type": "code",
   "execution_count": 21,
   "metadata": {},
   "outputs": [],
   "source": [
    "X_train = train.drop([\"target\", \"date\"], axis=1)\n",
    "y_train = train[\"target\"]\n",
    "\n",
    "X_test = test.drop([\"target\", \"date\"], axis=1)\n",
    "y_test = test[\"target\"]"
   ]
  },
  {
   "cell_type": "code",
   "execution_count": 22,
   "metadata": {},
   "outputs": [],
   "source": [
    "model = LGBMRegressor()"
   ]
  },
  {
   "cell_type": "code",
   "execution_count": 23,
   "metadata": {},
   "outputs": [
    {
     "data": {
      "text/html": [
       "<style>#sk-container-id-1 {color: black;background-color: white;}#sk-container-id-1 pre{padding: 0;}#sk-container-id-1 div.sk-toggleable {background-color: white;}#sk-container-id-1 label.sk-toggleable__label {cursor: pointer;display: block;width: 100%;margin-bottom: 0;padding: 0.3em;box-sizing: border-box;text-align: center;}#sk-container-id-1 label.sk-toggleable__label-arrow:before {content: \"▸\";float: left;margin-right: 0.25em;color: #696969;}#sk-container-id-1 label.sk-toggleable__label-arrow:hover:before {color: black;}#sk-container-id-1 div.sk-estimator:hover label.sk-toggleable__label-arrow:before {color: black;}#sk-container-id-1 div.sk-toggleable__content {max-height: 0;max-width: 0;overflow: hidden;text-align: left;background-color: #f0f8ff;}#sk-container-id-1 div.sk-toggleable__content pre {margin: 0.2em;color: black;border-radius: 0.25em;background-color: #f0f8ff;}#sk-container-id-1 input.sk-toggleable__control:checked~div.sk-toggleable__content {max-height: 200px;max-width: 100%;overflow: auto;}#sk-container-id-1 input.sk-toggleable__control:checked~label.sk-toggleable__label-arrow:before {content: \"▾\";}#sk-container-id-1 div.sk-estimator input.sk-toggleable__control:checked~label.sk-toggleable__label {background-color: #d4ebff;}#sk-container-id-1 div.sk-label input.sk-toggleable__control:checked~label.sk-toggleable__label {background-color: #d4ebff;}#sk-container-id-1 input.sk-hidden--visually {border: 0;clip: rect(1px 1px 1px 1px);clip: rect(1px, 1px, 1px, 1px);height: 1px;margin: -1px;overflow: hidden;padding: 0;position: absolute;width: 1px;}#sk-container-id-1 div.sk-estimator {font-family: monospace;background-color: #f0f8ff;border: 1px dotted black;border-radius: 0.25em;box-sizing: border-box;margin-bottom: 0.5em;}#sk-container-id-1 div.sk-estimator:hover {background-color: #d4ebff;}#sk-container-id-1 div.sk-parallel-item::after {content: \"\";width: 100%;border-bottom: 1px solid gray;flex-grow: 1;}#sk-container-id-1 div.sk-label:hover label.sk-toggleable__label {background-color: #d4ebff;}#sk-container-id-1 div.sk-serial::before {content: \"\";position: absolute;border-left: 1px solid gray;box-sizing: border-box;top: 0;bottom: 0;left: 50%;z-index: 0;}#sk-container-id-1 div.sk-serial {display: flex;flex-direction: column;align-items: center;background-color: white;padding-right: 0.2em;padding-left: 0.2em;position: relative;}#sk-container-id-1 div.sk-item {position: relative;z-index: 1;}#sk-container-id-1 div.sk-parallel {display: flex;align-items: stretch;justify-content: center;background-color: white;position: relative;}#sk-container-id-1 div.sk-item::before, #sk-container-id-1 div.sk-parallel-item::before {content: \"\";position: absolute;border-left: 1px solid gray;box-sizing: border-box;top: 0;bottom: 0;left: 50%;z-index: -1;}#sk-container-id-1 div.sk-parallel-item {display: flex;flex-direction: column;z-index: 1;position: relative;background-color: white;}#sk-container-id-1 div.sk-parallel-item:first-child::after {align-self: flex-end;width: 50%;}#sk-container-id-1 div.sk-parallel-item:last-child::after {align-self: flex-start;width: 50%;}#sk-container-id-1 div.sk-parallel-item:only-child::after {width: 0;}#sk-container-id-1 div.sk-dashed-wrapped {border: 1px dashed gray;margin: 0 0.4em 0.5em 0.4em;box-sizing: border-box;padding-bottom: 0.4em;background-color: white;}#sk-container-id-1 div.sk-label label {font-family: monospace;font-weight: bold;display: inline-block;line-height: 1.2em;}#sk-container-id-1 div.sk-label-container {text-align: center;}#sk-container-id-1 div.sk-container {/* jupyter's `normalize.less` sets `[hidden] { display: none; }` but bootstrap.min.css set `[hidden] { display: none !important; }` so we also need the `!important` here to be able to override the default hidden behavior on the sphinx rendered scikit-learn.org. See: https://github.com/scikit-learn/scikit-learn/issues/21755 */display: inline-block !important;position: relative;}#sk-container-id-1 div.sk-text-repr-fallback {display: none;}</style><div id=\"sk-container-id-1\" class=\"sk-top-container\"><div class=\"sk-text-repr-fallback\"><pre>LGBMRegressor()</pre><b>In a Jupyter environment, please rerun this cell to show the HTML representation or trust the notebook. <br />On GitHub, the HTML representation is unable to render, please try loading this page with nbviewer.org.</b></div><div class=\"sk-container\" hidden><div class=\"sk-item\"><div class=\"sk-estimator sk-toggleable\"><input class=\"sk-toggleable__control sk-hidden--visually\" id=\"sk-estimator-id-1\" type=\"checkbox\" checked><label for=\"sk-estimator-id-1\" class=\"sk-toggleable__label sk-toggleable__label-arrow\">LGBMRegressor</label><div class=\"sk-toggleable__content\"><pre>LGBMRegressor()</pre></div></div></div></div></div>"
      ],
      "text/plain": [
       "LGBMRegressor()"
      ]
     },
     "execution_count": 23,
     "metadata": {},
     "output_type": "execute_result"
    }
   ],
   "source": [
    "model.fit(X_train, y_train)"
   ]
  },
  {
   "cell_type": "code",
   "execution_count": 24,
   "metadata": {},
   "outputs": [],
   "source": [
    "y_pred = model.predict(X_test)"
   ]
  },
  {
   "cell_type": "code",
   "execution_count": 25,
   "metadata": {},
   "outputs": [],
   "source": [
    "from sklearn.metrics import (\n",
    "    mean_absolute_error, \n",
    "    mean_absolute_percentage_error, \n",
    "    mean_squared_error, \n",
    "    r2_score\n",
    ")"
   ]
  },
  {
   "cell_type": "code",
   "execution_count": 26,
   "metadata": {},
   "outputs": [
    {
     "data": {
      "text/plain": [
       "0.02457648284291709"
      ]
     },
     "execution_count": 26,
     "metadata": {},
     "output_type": "execute_result"
    }
   ],
   "source": [
    "mean_squared_error(y_test, y_pred, squared=False)"
   ]
  },
  {
   "cell_type": "code",
   "execution_count": 27,
   "metadata": {},
   "outputs": [
    {
     "data": {
      "text/plain": [
       "0.009561101358821997"
      ]
     },
     "execution_count": 27,
     "metadata": {},
     "output_type": "execute_result"
    }
   ],
   "source": [
    "mean_absolute_error(y_test, y_pred)"
   ]
  },
  {
   "cell_type": "code",
   "execution_count": 28,
   "metadata": {},
   "outputs": [
    {
     "data": {
      "text/plain": [
       "0.027215674191145605"
      ]
     },
     "execution_count": 28,
     "metadata": {},
     "output_type": "execute_result"
    }
   ],
   "source": [
    "mean_absolute_percentage_error(y_test, y_pred)"
   ]
  },
  {
   "cell_type": "code",
   "execution_count": 29,
   "metadata": {},
   "outputs": [
    {
     "data": {
      "text/plain": [
       "0.9936464343974766"
      ]
     },
     "execution_count": 29,
     "metadata": {},
     "output_type": "execute_result"
    }
   ],
   "source": [
    "r2_score(y_test, y_pred)"
   ]
  },
  {
   "attachments": {},
   "cell_type": "markdown",
   "metadata": {},
   "source": [
    "plot the predictions"
   ]
  },
  {
   "cell_type": "code",
   "execution_count": 30,
   "metadata": {},
   "outputs": [],
   "source": [
    "predictions  = pd.DataFrame(y_pred, columns=[\"forecast\"])\n",
    "predictions[\"actual\"] = y_test.values\n",
    "predictions.index = dataset[dataset[\"date\"]>= \"2014\"][\"date\"]"
   ]
  },
  {
   "cell_type": "code",
   "execution_count": 31,
   "metadata": {},
   "outputs": [
    {
     "data": {
      "text/plain": [
       "<Axes: xlabel='date'>"
      ]
     },
     "execution_count": 31,
     "metadata": {},
     "output_type": "execute_result"
    },
    {
     "data": {
      "image/png": "[encoded data removed]",
      "text/plain": [
       "<Figure size 640x480 with 1 Axes>"
      ]
     },
     "metadata": {},
     "output_type": "display_data"
    }
   ],
   "source": [
    "predictions.plot()"
   ]
  },
  {
   "cell_type": "code",
   "execution_count": 32,
   "metadata": {},
   "outputs": [],
   "source": [
    "residuals = predictions[\"forecast\"] - predictions[\"actual\"]"
   ]
  },
  {
   "cell_type": "code",
   "execution_count": 33,
   "metadata": {},
   "outputs": [
    {
     "data": {
      "text/plain": [
       "<Axes: xlabel='date'>"
      ]
     },
     "execution_count": 33,
     "metadata": {},
     "output_type": "execute_result"
    },
    {
     "data": {
      "image/png": "[encoded data removed]",
      "text/plain": [
       "<Figure size 640x480 with 1 Axes>"
      ]
     },
     "metadata": {},
     "output_type": "display_data"
    }
   ],
   "source": [
    "residuals.plot()"
   ]
  },
  {
   "cell_type": "code",
   "execution_count": 34,
   "metadata": {},
   "outputs": [
    {
     "data": {
      "text/plain": [
       "<Axes: >"
      ]
     },
     "execution_count": 34,
     "metadata": {},
     "output_type": "execute_result"
    },
    {
     "data": {
      "image/png": "[encoded data removed]",
      "text/plain": [
       "<Figure size 640x480 with 1 Axes>"
      ]
     },
     "metadata": {},
     "output_type": "display_data"
    }
   ],
   "source": [
    "residuals.hist(bins=100)"
   ]
  },
  {
   "attachments": {},
   "cell_type": "markdown",
   "metadata": {},
   "source": [
    "So far we have developed a one-step ahead model that assumes we can observe the target value and calculate features before the next prediction is to be made.\n",
    "\n",
    "Let´s try now and create a multi-step model. Let´s assume we need to forecast 48 steps into the future (24hrs) as the data is in 30min frequency."
   ]
  },
  {
   "cell_type": "code",
   "execution_count": 35,
   "metadata": {},
   "outputs": [],
   "source": [
    "time_features = [\n",
    "    'month', 'week', \n",
    "    'day', 'day_of_week', 'day_of_year',\n",
    "    'hour', 'minute', 'log_age'\n",
    "]"
   ]
  },
  {
   "cell_type": "code",
   "execution_count": 36,
   "metadata": {},
   "outputs": [],
   "source": [
    "columns_to_shift = time_features + [\"date\", \"target\"]"
   ]
  },
  {
   "cell_type": "code",
   "execution_count": 37,
   "metadata": {},
   "outputs": [],
   "source": [
    "class Forecaster:\n",
    "\n",
    "    def __init__(\n",
    "        self,\n",
    "        prediction_length = 48,\n",
    "        date =\"date\",\n",
    "        target = \"target\",\n",
    "    ):\n",
    "        self.prediction_length = prediction_length\n",
    "        self.date = date\n",
    "        self.target = target\n",
    "        self.models = []\n",
    "        self.fitted = False\n",
    "\n",
    "    def feature_engineering(self, dataframe, num_lags=48, skip_periods=8):\n",
    "        \"\"\"\n",
    "        Add here all the steps for calculating the features.\n",
    "\n",
    "        \"\"\"\n",
    "        \n",
    "        # Time features\n",
    "        dataframe = add_time_features(dataframe)\n",
    "\n",
    "        # Add lags\n",
    "        for lag in range(1, num_lags):\n",
    "            dataframe[f\"lag_{lag}\"] = dataframe[self.target].shift(lag)\n",
    "        \n",
    "        # Add pct_change and diff\n",
    "        for period in range(1, num_lags, skip_periods):\n",
    "            dataframe[f\"pct_change_{period}\"] = dataframe[self.target].pct_change(periods=period)\n",
    "            dataframe[f\"diff_{period}\"] = dataframe[self.target].diff(periods=period)\n",
    "        \n",
    "        # Add rolling window aggregations\n",
    "        for period in range(5, num_lags, skip_periods):\n",
    "            dataframe[f\"mean_{period}\"] = dataframe[self.target].rolling(period).mean()\n",
    "            dataframe[f\"median_{period}\"] = dataframe[self.target].rolling(period).median()\n",
    "            dataframe[f\"std_{period}\"] = dataframe[self.target].rolling(period).std()\n",
    "            dataframe[f\"min_{period}\"] = dataframe[self.target].rolling(period).min()\n",
    "            dataframe[f\"max_{period}\"] = dataframe[self.target].rolling(period).max()\n",
    "            dataframe[f\"sum_{period}\"] = dataframe[self.target].rolling(period).sum()\n",
    "  \n",
    "        return dataframe.dropna()\n",
    "\n",
    "    def shift_data(self, dataframe, periods):\n",
    "        return pd.concat(\n",
    "            [\n",
    "                dataframe.drop(columns_to_shift, axis=1).shift(periods),\n",
    "                dataframe[columns_to_shift]\n",
    "            ], \n",
    "            axis=1\n",
    "        ).dropna()\n",
    "        \n",
    "    def prepare_forecast_features(self, dataframe):\n",
    "        \"\"\"\n",
    "        Creates the features needed at forecast time.\n",
    "        \"\"\"\n",
    "        \n",
    "        # Create empty dataframe with start as the\n",
    "        # next period from the train data\n",
    "\n",
    "        features = pd.DataFrame(\n",
    "            index=pd.period_range(\n",
    "                dataframe.tail(1)[\"date\"].item() + 1, \n",
    "                periods=self.prediction_length,\n",
    "                freq=\"30min\"\n",
    "            )\n",
    "        )\n",
    "        \n",
    "        features = features.reset_index().rename(columns={\"index\": \"date\"})\n",
    "\n",
    "        # Adjust index number so that we can calculate the log_age feature\n",
    "        features.index = features.index + dataframe.tail(1).index + 1\n",
    "\n",
    "        # Time features\n",
    "        features = add_time_features(features)\n",
    "\n",
    "        # Copy last feature \n",
    "        for item in dataframe.tail(1).drop(columns_to_shift, axis=1).items():\n",
    "            features[item[0]] = item[1].values.item()\n",
    "\n",
    "        return features\n",
    "\n",
    "    def fit(self, train_df):\n",
    "\n",
    "        features = self.feature_engineering(train_df)\n",
    "\n",
    "        self.forecast_features = self.prepare_forecast_features(features)\n",
    "        self.forecast_dates = self.forecast_features[\"date\"]\n",
    "        self.forecast_features.drop(\"date\", axis=1, inplace=True)\n",
    "\n",
    "        for step in range(0, self.prediction_length): \n",
    "            \n",
    "            print(f\"Fitting model for step {step}\")\n",
    "\n",
    "            model = LGBMRegressor()\n",
    "\n",
    "            df_train = self.shift_data(features, step)\n",
    "\n",
    "            X_train = df_train.drop([self.target, self.date], axis=1)\n",
    "            y_train = df_train[self.target]\n",
    "\n",
    "            model.fit(X_train, y_train)\n",
    "\n",
    "            self.models.append(model)\n",
    "\n",
    "        self.fitted = True\n",
    "    \n",
    "    def forecast(self) -> pd.DataFrame:\n",
    "        \"\"\"\n",
    "        Implement forecasting into the future.\n",
    "\n",
    "        Returns\n",
    "        -------\n",
    "        A pandas DataFrame with date and forecast columns\n",
    "        \"\"\"\n",
    "        if not self.fitted:\n",
    "            raise Exception(\"Run fit before forecast.\")\n",
    "\n",
    "        predictions = pd.DataFrame(index=self.forecast_dates)\n",
    "\n",
    "        y_hat = [\n",
    "            model.predict(\n",
    "                self.forecast_features.iloc[horizon].values.reshape(1, -1)\n",
    "            ).item()\n",
    "            for horizon, model in enumerate(self.models)\n",
    "        ]\n",
    "\n",
    "        predictions[\"forecast\"] = y_hat\n",
    "             \n",
    "        return predictions\n",
    "\n",
    "    def score(self):\n",
    "        if not self.fitted:\n",
    "            raise Exception(\"Run fit before score.\")\n",
    "        ...\n",
    "        \n",
    "    "
   ]
  },
  {
   "cell_type": "code",
   "execution_count": 38,
   "metadata": {},
   "outputs": [],
   "source": [
    "forecaster = Forecaster(prediction_length=48)"
   ]
  },
  {
   "attachments": {},
   "cell_type": "markdown",
   "metadata": {},
   "source": [
    "NOTE: Run cells at the begining to load the dataset, but do not create the features. That will be handled in the class. The dataset should only have date and target."
   ]
  },
  {
   "cell_type": "code",
   "execution_count": 52,
   "metadata": {},
   "outputs": [
    {
     "data": {
      "text/html": [
       "<div>\n",
       "<style scoped>\n",
       "    .dataframe tbody tr th:only-of-type {\n",
       "        vertical-align: middle;\n",
       "    }\n",
       "\n",
       "    .dataframe tbody tr th {\n",
       "        vertical-align: top;\n",
       "    }\n",
       "\n",
       "    .dataframe thead th {\n",
       "        text-align: right;\n",
       "    }\n",
       "</style>\n",
       "<table border=\"1\" class=\"dataframe\">\n",
       "  <thead>\n",
       "    <tr style=\"text-align: right;\">\n",
       "      <th></th>\n",
       "      <th>date</th>\n",
       "      <th>target</th>\n",
       "    </tr>\n",
       "  </thead>\n",
       "  <tbody>\n",
       "    <tr>\n",
       "      <th>0</th>\n",
       "      <td>2012-10-13 00:00</td>\n",
       "      <td>0.263</td>\n",
       "    </tr>\n",
       "    <tr>\n",
       "      <th>1</th>\n",
       "      <td>2012-10-13 00:30</td>\n",
       "      <td>0.269</td>\n",
       "    </tr>\n",
       "    <tr>\n",
       "      <th>2</th>\n",
       "      <td>2012-10-13 01:00</td>\n",
       "      <td>0.275</td>\n",
       "    </tr>\n",
       "    <tr>\n",
       "      <th>3</th>\n",
       "      <td>2012-10-13 01:30</td>\n",
       "      <td>0.256</td>\n",
       "    </tr>\n",
       "    <tr>\n",
       "      <th>4</th>\n",
       "      <td>2012-10-13 02:00</td>\n",
       "      <td>0.211</td>\n",
       "    </tr>\n",
       "    <tr>\n",
       "      <th>...</th>\n",
       "      <td>...</td>\n",
       "      <td>...</td>\n",
       "    </tr>\n",
       "    <tr>\n",
       "      <th>23899</th>\n",
       "      <td>2014-02-22 21:30</td>\n",
       "      <td>0.483</td>\n",
       "    </tr>\n",
       "    <tr>\n",
       "      <th>23900</th>\n",
       "      <td>2014-02-22 22:00</td>\n",
       "      <td>0.416</td>\n",
       "    </tr>\n",
       "    <tr>\n",
       "      <th>23901</th>\n",
       "      <td>2014-02-22 22:30</td>\n",
       "      <td>1.350</td>\n",
       "    </tr>\n",
       "    <tr>\n",
       "      <th>23902</th>\n",
       "      <td>2014-02-22 23:00</td>\n",
       "      <td>1.247</td>\n",
       "    </tr>\n",
       "    <tr>\n",
       "      <th>23903</th>\n",
       "      <td>2014-02-22 23:30</td>\n",
       "      <td>1.218</td>\n",
       "    </tr>\n",
       "  </tbody>\n",
       "</table>\n",
       "<p>23904 rows × 2 columns</p>\n",
       "</div>"
      ],
      "text/plain": [
       "                   date  target\n",
       "0      2012-10-13 00:00   0.263\n",
       "1      2012-10-13 00:30   0.269\n",
       "2      2012-10-13 01:00   0.275\n",
       "3      2012-10-13 01:30   0.256\n",
       "4      2012-10-13 02:00   0.211\n",
       "...                 ...     ...\n",
       "23899  2014-02-22 21:30   0.483\n",
       "23900  2014-02-22 22:00   0.416\n",
       "23901  2014-02-22 22:30   1.350\n",
       "23902  2014-02-22 23:00   1.247\n",
       "23903  2014-02-22 23:30   1.218\n",
       "\n",
       "[23904 rows x 2 columns]"
      ]
     },
     "execution_count": 52,
     "metadata": {},
     "output_type": "execute_result"
    }
   ],
   "source": [
    "dataset"
   ]
  },
  {
   "attachments": {},
   "cell_type": "markdown",
   "metadata": {},
   "source": [
    "Let´s train the forecater"
   ]
  },
  {
   "cell_type": "code",
   "execution_count": 53,
   "metadata": {},
   "outputs": [
    {
     "name": "stderr",
     "output_type": "stream",
     "text": [
      "/tmp/ipykernel_17907/1602232114.py:37: PerformanceWarning: DataFrame is highly fragmented.  This is usually the result of calling `frame.insert` many times, which has poor performance.  Consider joining all columns at once using pd.concat(axis=1) instead. To get a de-fragmented frame, use `newframe = frame.copy()`\n",
      "  dataframe[f\"std_{period}\"] = dataframe[self.target].rolling(period).std()\n",
      "/tmp/ipykernel_17907/1602232114.py:38: PerformanceWarning: DataFrame is highly fragmented.  This is usually the result of calling `frame.insert` many times, which has poor performance.  Consider joining all columns at once using pd.concat(axis=1) instead. To get a de-fragmented frame, use `newframe = frame.copy()`\n",
      "  dataframe[f\"min_{period}\"] = dataframe[self.target].rolling(period).min()\n",
      "/tmp/ipykernel_17907/1602232114.py:39: PerformanceWarning: DataFrame is highly fragmented.  This is usually the result of calling `frame.insert` many times, which has poor performance.  Consider joining all columns at once using pd.concat(axis=1) instead. To get a de-fragmented frame, use `newframe = frame.copy()`\n",
      "  dataframe[f\"max_{period}\"] = dataframe[self.target].rolling(period).max()\n",
      "/tmp/ipykernel_17907/1602232114.py:40: PerformanceWarning: DataFrame is highly fragmented.  This is usually the result of calling `frame.insert` many times, which has poor performance.  Consider joining all columns at once using pd.concat(axis=1) instead. To get a de-fragmented frame, use `newframe = frame.copy()`\n",
      "  dataframe[f\"sum_{period}\"] = dataframe[self.target].rolling(period).sum()\n",
      "/tmp/ipykernel_17907/1602232114.py:79: PerformanceWarning: DataFrame is highly fragmented.  This is usually the result of calling `frame.insert` many times, which has poor performance.  Consider joining all columns at once using pd.concat(axis=1) instead. To get a de-fragmented frame, use `newframe = frame.copy()`\n",
      "  features[item[0]] = item[1].values.item()\n",
      "/tmp/ipykernel_17907/1602232114.py:79: PerformanceWarning: DataFrame is highly fragmented.  This is usually the result of calling `frame.insert` many times, which has poor performance.  Consider joining all columns at once using pd.concat(axis=1) instead. To get a de-fragmented frame, use `newframe = frame.copy()`\n",
      "  features[item[0]] = item[1].values.item()\n",
      "/tmp/ipykernel_17907/1602232114.py:79: PerformanceWarning: DataFrame is highly fragmented.  This is usually the result of calling `frame.insert` many times, which has poor performance.  Consider joining all columns at once using pd.concat(axis=1) instead. To get a de-fragmented frame, use `newframe = frame.copy()`\n",
      "  features[item[0]] = item[1].values.item()\n"
     ]
    },
    {
     "name": "stdout",
     "output_type": "stream",
     "text": [
      "Fitting model for step 0\n",
      "Fitting model for step 1\n",
      "Fitting model for step 2\n",
      "Fitting model for step 3\n",
      "Fitting model for step 4\n",
      "Fitting model for step 5\n",
      "Fitting model for step 6\n",
      "Fitting model for step 7\n",
      "Fitting model for step 8\n",
      "Fitting model for step 9\n",
      "Fitting model for step 10\n",
      "Fitting model for step 11\n",
      "Fitting model for step 12\n",
      "Fitting model for step 13\n",
      "Fitting model for step 14\n",
      "Fitting model for step 15\n",
      "Fitting model for step 16\n",
      "Fitting model for step 17\n",
      "Fitting model for step 18\n",
      "Fitting model for step 19\n",
      "Fitting model for step 20\n",
      "Fitting model for step 21\n",
      "Fitting model for step 22\n",
      "Fitting model for step 23\n",
      "Fitting model for step 24\n",
      "Fitting model for step 25\n",
      "Fitting model for step 26\n",
      "Fitting model for step 27\n",
      "Fitting model for step 28\n",
      "Fitting model for step 29\n",
      "Fitting model for step 30\n",
      "Fitting model for step 31\n",
      "Fitting model for step 32\n",
      "Fitting model for step 33\n",
      "Fitting model for step 34\n",
      "Fitting model for step 35\n",
      "Fitting model for step 36\n",
      "Fitting model for step 37\n",
      "Fitting model for step 38\n",
      "Fitting model for step 39\n",
      "Fitting model for step 40\n",
      "Fitting model for step 41\n",
      "Fitting model for step 42\n",
      "Fitting model for step 43\n",
      "Fitting model for step 44\n",
      "Fitting model for step 45\n",
      "Fitting model for step 46\n",
      "Fitting model for step 47\n"
     ]
    }
   ],
   "source": [
    "forecaster.fit(dataset)"
   ]
  },
  {
   "attachments": {},
   "cell_type": "markdown",
   "metadata": {},
   "source": [
    "Making a forecast into the future"
   ]
  },
  {
   "cell_type": "code",
   "execution_count": 41,
   "metadata": {},
   "outputs": [],
   "source": [
    "df_forecast = forecaster.forecast()"
   ]
  },
  {
   "cell_type": "code",
   "execution_count": 42,
   "metadata": {},
   "outputs": [
    {
     "data": {
      "text/html": [
       "<div>\n",
       "<style scoped>\n",
       "    .dataframe tbody tr th:only-of-type {\n",
       "        vertical-align: middle;\n",
       "    }\n",
       "\n",
       "    .dataframe tbody tr th {\n",
       "        vertical-align: top;\n",
       "    }\n",
       "\n",
       "    .dataframe thead th {\n",
       "        text-align: right;\n",
       "    }\n",
       "</style>\n",
       "<table border=\"1\" class=\"dataframe\">\n",
       "  <thead>\n",
       "    <tr style=\"text-align: right;\">\n",
       "      <th></th>\n",
       "      <th>forecast</th>\n",
       "    </tr>\n",
       "    <tr>\n",
       "      <th>date</th>\n",
       "      <th></th>\n",
       "    </tr>\n",
       "  </thead>\n",
       "  <tbody>\n",
       "    <tr>\n",
       "      <th>2014-02-23 00:00</th>\n",
       "      <td>1.131011</td>\n",
       "    </tr>\n",
       "    <tr>\n",
       "      <th>2014-02-23 00:30</th>\n",
       "      <td>0.812827</td>\n",
       "    </tr>\n",
       "    <tr>\n",
       "      <th>2014-02-23 01:00</th>\n",
       "      <td>0.662788</td>\n",
       "    </tr>\n",
       "    <tr>\n",
       "      <th>2014-02-23 01:30</th>\n",
       "      <td>0.415266</td>\n",
       "    </tr>\n",
       "    <tr>\n",
       "      <th>2014-02-23 02:00</th>\n",
       "      <td>0.242638</td>\n",
       "    </tr>\n",
       "    <tr>\n",
       "      <th>2014-02-23 02:30</th>\n",
       "      <td>0.057237</td>\n",
       "    </tr>\n",
       "    <tr>\n",
       "      <th>2014-02-23 03:00</th>\n",
       "      <td>0.245688</td>\n",
       "    </tr>\n",
       "    <tr>\n",
       "      <th>2014-02-23 03:30</th>\n",
       "      <td>0.368497</td>\n",
       "    </tr>\n",
       "    <tr>\n",
       "      <th>2014-02-23 04:00</th>\n",
       "      <td>0.486029</td>\n",
       "    </tr>\n",
       "    <tr>\n",
       "      <th>2014-02-23 04:30</th>\n",
       "      <td>0.579037</td>\n",
       "    </tr>\n",
       "    <tr>\n",
       "      <th>2014-02-23 05:00</th>\n",
       "      <td>0.702436</td>\n",
       "    </tr>\n",
       "    <tr>\n",
       "      <th>2014-02-23 05:30</th>\n",
       "      <td>0.816587</td>\n",
       "    </tr>\n",
       "    <tr>\n",
       "      <th>2014-02-23 06:00</th>\n",
       "      <td>0.803626</td>\n",
       "    </tr>\n",
       "    <tr>\n",
       "      <th>2014-02-23 06:30</th>\n",
       "      <td>0.726124</td>\n",
       "    </tr>\n",
       "    <tr>\n",
       "      <th>2014-02-23 07:00</th>\n",
       "      <td>0.727418</td>\n",
       "    </tr>\n",
       "    <tr>\n",
       "      <th>2014-02-23 07:30</th>\n",
       "      <td>0.671192</td>\n",
       "    </tr>\n",
       "    <tr>\n",
       "      <th>2014-02-23 08:00</th>\n",
       "      <td>0.507918</td>\n",
       "    </tr>\n",
       "    <tr>\n",
       "      <th>2014-02-23 08:30</th>\n",
       "      <td>0.358429</td>\n",
       "    </tr>\n",
       "    <tr>\n",
       "      <th>2014-02-23 09:00</th>\n",
       "      <td>0.648128</td>\n",
       "    </tr>\n",
       "    <tr>\n",
       "      <th>2014-02-23 09:30</th>\n",
       "      <td>0.346591</td>\n",
       "    </tr>\n",
       "    <tr>\n",
       "      <th>2014-02-23 10:00</th>\n",
       "      <td>0.351071</td>\n",
       "    </tr>\n",
       "    <tr>\n",
       "      <th>2014-02-23 10:30</th>\n",
       "      <td>0.332359</td>\n",
       "    </tr>\n",
       "    <tr>\n",
       "      <th>2014-02-23 11:00</th>\n",
       "      <td>0.439070</td>\n",
       "    </tr>\n",
       "    <tr>\n",
       "      <th>2014-02-23 11:30</th>\n",
       "      <td>0.212123</td>\n",
       "    </tr>\n",
       "    <tr>\n",
       "      <th>2014-02-23 12:00</th>\n",
       "      <td>0.421307</td>\n",
       "    </tr>\n",
       "    <tr>\n",
       "      <th>2014-02-23 12:30</th>\n",
       "      <td>0.384732</td>\n",
       "    </tr>\n",
       "    <tr>\n",
       "      <th>2014-02-23 13:00</th>\n",
       "      <td>0.203280</td>\n",
       "    </tr>\n",
       "    <tr>\n",
       "      <th>2014-02-23 13:30</th>\n",
       "      <td>0.309230</td>\n",
       "    </tr>\n",
       "    <tr>\n",
       "      <th>2014-02-23 14:00</th>\n",
       "      <td>0.513321</td>\n",
       "    </tr>\n",
       "    <tr>\n",
       "      <th>2014-02-23 14:30</th>\n",
       "      <td>0.847988</td>\n",
       "    </tr>\n",
       "    <tr>\n",
       "      <th>2014-02-23 15:00</th>\n",
       "      <td>0.667744</td>\n",
       "    </tr>\n",
       "    <tr>\n",
       "      <th>2014-02-23 15:30</th>\n",
       "      <td>0.822160</td>\n",
       "    </tr>\n",
       "    <tr>\n",
       "      <th>2014-02-23 16:00</th>\n",
       "      <td>0.545135</td>\n",
       "    </tr>\n",
       "    <tr>\n",
       "      <th>2014-02-23 16:30</th>\n",
       "      <td>1.070543</td>\n",
       "    </tr>\n",
       "    <tr>\n",
       "      <th>2014-02-23 17:00</th>\n",
       "      <td>0.854596</td>\n",
       "    </tr>\n",
       "    <tr>\n",
       "      <th>2014-02-23 17:30</th>\n",
       "      <td>1.416812</td>\n",
       "    </tr>\n",
       "    <tr>\n",
       "      <th>2014-02-23 18:00</th>\n",
       "      <td>0.970009</td>\n",
       "    </tr>\n",
       "    <tr>\n",
       "      <th>2014-02-23 18:30</th>\n",
       "      <td>1.100145</td>\n",
       "    </tr>\n",
       "    <tr>\n",
       "      <th>2014-02-23 19:00</th>\n",
       "      <td>1.399907</td>\n",
       "    </tr>\n",
       "    <tr>\n",
       "      <th>2014-02-23 19:30</th>\n",
       "      <td>1.253470</td>\n",
       "    </tr>\n",
       "    <tr>\n",
       "      <th>2014-02-23 20:00</th>\n",
       "      <td>0.748890</td>\n",
       "    </tr>\n",
       "    <tr>\n",
       "      <th>2014-02-23 20:30</th>\n",
       "      <td>1.115239</td>\n",
       "    </tr>\n",
       "    <tr>\n",
       "      <th>2014-02-23 21:00</th>\n",
       "      <td>0.805840</td>\n",
       "    </tr>\n",
       "    <tr>\n",
       "      <th>2014-02-23 21:30</th>\n",
       "      <td>0.831968</td>\n",
       "    </tr>\n",
       "    <tr>\n",
       "      <th>2014-02-23 22:00</th>\n",
       "      <td>0.706346</td>\n",
       "    </tr>\n",
       "    <tr>\n",
       "      <th>2014-02-23 22:30</th>\n",
       "      <td>0.628235</td>\n",
       "    </tr>\n",
       "    <tr>\n",
       "      <th>2014-02-23 23:00</th>\n",
       "      <td>0.641360</td>\n",
       "    </tr>\n",
       "    <tr>\n",
       "      <th>2014-02-23 23:30</th>\n",
       "      <td>0.585607</td>\n",
       "    </tr>\n",
       "  </tbody>\n",
       "</table>\n",
       "</div>"
      ],
      "text/plain": [
       "                  forecast\n",
       "date                      \n",
       "2014-02-23 00:00  1.131011\n",
       "2014-02-23 00:30  0.812827\n",
       "2014-02-23 01:00  0.662788\n",
       "2014-02-23 01:30  0.415266\n",
       "2014-02-23 02:00  0.242638\n",
       "2014-02-23 02:30  0.057237\n",
       "2014-02-23 03:00  0.245688\n",
       "2014-02-23 03:30  0.368497\n",
       "2014-02-23 04:00  0.486029\n",
       "2014-02-23 04:30  0.579037\n",
       "2014-02-23 05:00  0.702436\n",
       "2014-02-23 05:30  0.816587\n",
       "2014-02-23 06:00  0.803626\n",
       "2014-02-23 06:30  0.726124\n",
       "2014-02-23 07:00  0.727418\n",
       "2014-02-23 07:30  0.671192\n",
       "2014-02-23 08:00  0.507918\n",
       "2014-02-23 08:30  0.358429\n",
       "2014-02-23 09:00  0.648128\n",
       "2014-02-23 09:30  0.346591\n",
       "2014-02-23 10:00  0.351071\n",
       "2014-02-23 10:30  0.332359\n",
       "2014-02-23 11:00  0.439070\n",
       "2014-02-23 11:30  0.212123\n",
       "2014-02-23 12:00  0.421307\n",
       "2014-02-23 12:30  0.384732\n",
       "2014-02-23 13:00  0.203280\n",
       "2014-02-23 13:30  0.309230\n",
       "2014-02-23 14:00  0.513321\n",
       "2014-02-23 14:30  0.847988\n",
       "2014-02-23 15:00  0.667744\n",
       "2014-02-23 15:30  0.822160\n",
       "2014-02-23 16:00  0.545135\n",
       "2014-02-23 16:30  1.070543\n",
       "2014-02-23 17:00  0.854596\n",
       "2014-02-23 17:30  1.416812\n",
       "2014-02-23 18:00  0.970009\n",
       "2014-02-23 18:30  1.100145\n",
       "2014-02-23 19:00  1.399907\n",
       "2014-02-23 19:30  1.253470\n",
       "2014-02-23 20:00  0.748890\n",
       "2014-02-23 20:30  1.115239\n",
       "2014-02-23 21:00  0.805840\n",
       "2014-02-23 21:30  0.831968\n",
       "2014-02-23 22:00  0.706346\n",
       "2014-02-23 22:30  0.628235\n",
       "2014-02-23 23:00  0.641360\n",
       "2014-02-23 23:30  0.585607"
      ]
     },
     "execution_count": 42,
     "metadata": {},
     "output_type": "execute_result"
    }
   ],
   "source": [
    "df_forecast"
   ]
  },
  {
   "attachments": {},
   "cell_type": "markdown",
   "metadata": {},
   "source": [
    "Let´s plot the last seven days to see it the forecasts make sense"
   ]
  },
  {
   "cell_type": "code",
   "execution_count": 46,
   "metadata": {},
   "outputs": [],
   "source": [
    "df_plot = pd.concat([\n",
    "    dataset.iloc[-48*7:][[\"date\", \"target\"]].set_index(\"date\"), # last three days\n",
    "    df_forecast # forecast\n",
    "],\n",
    "axis=0)"
   ]
  },
  {
   "cell_type": "code",
   "execution_count": 47,
   "metadata": {},
   "outputs": [
    {
     "data": {
      "text/plain": [
       "<Axes: xlabel='date'>"
      ]
     },
     "execution_count": 47,
     "metadata": {},
     "output_type": "execute_result"
    },
    {
     "data": {
      "image/png": "[encoded data removed]",
      "text/plain": [
       "<Figure size 640x480 with 1 Axes>"
      ]
     },
     "metadata": {},
     "output_type": "display_data"
    }
   ],
   "source": [
    "df_plot.plot()"
   ]
  },
  {
   "attachments": {},
   "cell_type": "markdown",
   "metadata": {},
   "source": [
    "### TODO: Estimate the performance of the forecaster and compare it to strong baseline forecasts. \n",
    "\n",
    "#### Let´s use the last 6 months of data to evaluate the performance simulating 1 forecast everyday performed at 00:00 everyday for the next 24 hours. (Forecast is from 00:00 to 00:00 -> 48 steps)"
   ]
  },
  {
   "attachments": {},
   "cell_type": "markdown",
   "metadata": {},
   "source": [
    "#### Estimate the performance also by time step (forecast horizon), so that we can see how the performance and error of the models behave as the forecast horizon is extended."
   ]
  },
  {
   "attachments": {},
   "cell_type": "markdown",
   "metadata": {},
   "source": [
    "DISCUSSION: Think about the implications of having to predict not only one time series, but the whole dataset. How could we solve this? "
   ]
  },
  {
   "cell_type": "code",
   "execution_count": 45,
   "metadata": {},
   "outputs": [],
   "source": [
    "# Implement here"
   ]
  },
  {
   "cell_type": "code",
   "execution_count": null,
   "metadata": {},
   "outputs": [],
   "source": []
  },
  {
   "attachments": {},
   "cell_type": "markdown",
   "metadata": {},
   "source": [
    "we delved into how we can do temporal embedding and time delay embedding by making use of feature engineering techniques. But that was just one side of the regression equation – the features. Often, we see that the other side of the equation – the target – does not behave the way we want. In other words, the target doesn’t have some desirable properties that make forecasting easier. One of the major culprits in this area is stationarity – or more specifically, the lack of it. And it creates problems with the assumptions we make while developing a machine learning (ML)/statistical model. "
   ]
  },
  {
   "cell_type": "markdown",
   "metadata": {},
   "source": []
  }
 ],
 "metadata": {
  "kernelspec": {
   "display_name": ".venv",
   "language": "python",
   "name": "python3"
  },
  "language_info": {
   "codemirror_mode": {
    "name": "ipython",
    "version": 3
   },
   "file_extension": ".py",
   "mimetype": "text/x-python",
   "name": "python",
   "nbconvert_exporter": "python",
   "pygments_lexer": "ipython3",
   "version": "3.8.16"
  },
  "orig_nbformat": 4,
  "vscode": {
   "interpreter": {
    "hash": "0453459bb7618aa41f40ffb322d7262ea589d16f3a7784db922c40f366cf2fcb"
   }
  }
 },
 "nbformat": 4,
 "nbformat_minor": 2
}
